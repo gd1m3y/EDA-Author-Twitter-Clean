{
  "nbformat": 4,
  "nbformat_minor": 0,
  "metadata": {
    "colab": {
      "name": "analysis.ipynb",
      "provenance": [],
      "collapsed_sections": [],
      "authorship_tag": "ABX9TyOhVCAcHptyS9cHs6QMUTeq",
      "include_colab_link": true
    },
    "kernelspec": {
      "name": "python3",
      "display_name": "Python 3"
    }
  },
  "cells": [
    {
      "cell_type": "markdown",
      "metadata": {
        "id": "view-in-github",
        "colab_type": "text"
      },
      "source": [
        "<a href=\"https://colab.research.google.com/github/gd1m3y/EDA-Author-Twitter-Clean/blob/master/analysis.ipynb\" target=\"_parent\"><img src=\"https://colab.research.google.com/assets/colab-badge.svg\" alt=\"Open In Colab\"/></a>"
      ]
    },
    {
      "cell_type": "code",
      "metadata": {
        "id": "Etpatq66-1NL"
      },
      "source": [
        "import pandas as pd\r\n",
        "import matplotlib.pyplot as plt\r\n",
        "import pprint\r\n",
        "import json\r\n",
        "import re"
      ],
      "execution_count": 64,
      "outputs": []
    },
    {
      "cell_type": "code",
      "metadata": {
        "id": "bXmlr5Bb_i3D"
      },
      "source": [
        "frame = pd.read_csv('wsj_authors_twitter_improved.csv')"
      ],
      "execution_count": 65,
      "outputs": []
    },
    {
      "cell_type": "code",
      "metadata": {
        "id": "ImWaZ1w-AI3m"
      },
      "source": [
        "\r\n",
        "def clean_numbers(x):\r\n",
        "  new_num = \"\"\r\n",
        "  # print(type(x)\r\n",
        "  if type(x) != type(1.0):\r\n",
        "    for i in x:\r\n",
        "      if i.isnumeric():\r\n",
        "        new_num+=i\r\n",
        "    return int(new_num)\r\n",
        "  else:\r\n",
        "    return None"
      ],
      "execution_count": 66,
      "outputs": []
    },
    {
      "cell_type": "code",
      "metadata": {
        "id": "47qX_69KAajZ"
      },
      "source": [
        "frame.followers = frame.followers.apply(clean_numbers)\r\n",
        "frame.no_of_posts = frame.no_of_posts.apply(clean_numbers)\r\n",
        "frame.likes = frame.likes.apply(clean_numbers)"
      ],
      "execution_count": 67,
      "outputs": []
    },
    {
      "cell_type": "code",
      "metadata": {
        "id": "GSq1jm7DZFpY"
      },
      "source": [
        ""
      ],
      "execution_count": 67,
      "outputs": []
    },
    {
      "cell_type": "code",
      "metadata": {
        "colab": {
          "base_uri": "https://localhost:8080/",
          "height": 400
        },
        "id": "_1f7-bn2CI8g",
        "outputId": "7d29149c-effa-4dda-bd8c-c4f8dd59d21a"
      },
      "source": [
        "frame.head()"
      ],
      "execution_count": 68,
      "outputs": [
        {
          "output_type": "execute_result",
          "data": {
            "text/html": [
              "<div>\n",
              "<style scoped>\n",
              "    .dataframe tbody tr th:only-of-type {\n",
              "        vertical-align: middle;\n",
              "    }\n",
              "\n",
              "    .dataframe tbody tr th {\n",
              "        vertical-align: top;\n",
              "    }\n",
              "\n",
              "    .dataframe thead th {\n",
              "        text-align: right;\n",
              "    }\n",
              "</style>\n",
              "<table border=\"1\" class=\"dataframe\">\n",
              "  <thead>\n",
              "    <tr style=\"text-align: right;\">\n",
              "      <th></th>\n",
              "      <th>Unnamed: 0</th>\n",
              "      <th>author_name</th>\n",
              "      <th>twitter_username</th>\n",
              "      <th>verified</th>\n",
              "      <th>profile_picture</th>\n",
              "      <th>user_id</th>\n",
              "      <th>bio</th>\n",
              "      <th>profile_location</th>\n",
              "      <th>profile_website</th>\n",
              "      <th>profile_join_date</th>\n",
              "      <th>no_of_posts</th>\n",
              "      <th>following</th>\n",
              "      <th>followers</th>\n",
              "      <th>likes</th>\n",
              "      <th>tweet</th>\n",
              "    </tr>\n",
              "  </thead>\n",
              "  <tbody>\n",
              "    <tr>\n",
              "      <th>0</th>\n",
              "      <td>0</td>\n",
              "      <td>Steph Aaronson</td>\n",
              "      <td>@stephaaronson</td>\n",
              "      <td>Verified account</td>\n",
              "      <td>https://nitter.net/pic/profile_images%2F110330...</td>\n",
              "      <td>1103304192092004352</td>\n",
              "      <td>Lead photo editor, biz + tech, @wsj. Formerly ...</td>\n",
              "      <td>New York, USA</td>\n",
              "      <td>wsj.com</td>\n",
              "      <td>8:48 PM - 23 Apr 2009</td>\n",
              "      <td>6114.0</td>\n",
              "      <td>1,265</td>\n",
              "      <td>1553.0</td>\n",
              "      <td>3404.0</td>\n",
              "      <td>{\"0\": {\"tweet_id\": 1332478765188997121, \"text\"...</td>\n",
              "    </tr>\n",
              "    <tr>\n",
              "      <th>1</th>\n",
              "      <td>1</td>\n",
              "      <td>Andrew Ackerman</td>\n",
              "      <td>@amacker</td>\n",
              "      <td>Verified account</td>\n",
              "      <td>https://nitter.net/pic/profile_images%2F121522...</td>\n",
              "      <td>1215223628930912257</td>\n",
              "      <td>housing/banking for @wsj. andrew.ackerman@wsj....</td>\n",
              "      <td>The Ackerbunker</td>\n",
              "      <td>online.wsj.com</td>\n",
              "      <td>7:44 PM - 16 Oct 2007</td>\n",
              "      <td>3182.0</td>\n",
              "      <td>1,358</td>\n",
              "      <td>7411.0</td>\n",
              "      <td>5891.0</td>\n",
              "      <td>{\"0\": {\"tweet_id\": 1353750656386035714, \"text\"...</td>\n",
              "    </tr>\n",
              "    <tr>\n",
              "      <th>2</th>\n",
              "      <td>2</td>\n",
              "      <td>Deborah Acosta</td>\n",
              "      <td>@DeborahAcosta</td>\n",
              "      <td>Verified account</td>\n",
              "      <td>https://nitter.net/pic/profile_images%2F131862...</td>\n",
              "      <td>1318626732845445120</td>\n",
              "      <td>Reporter at @WSJ; previously at @MiamiHerald a...</td>\n",
              "      <td>Miami, FL</td>\n",
              "      <td>wsj.com/news/author/deborah-…</td>\n",
              "      <td>4:28 PM - 15 Sep 2008</td>\n",
              "      <td>4620.0</td>\n",
              "      <td>2,846</td>\n",
              "      <td>5564.0</td>\n",
              "      <td>1605.0</td>\n",
              "      <td>{\"0\": {\"tweet_id\": 1353013120017555456, \"text\"...</td>\n",
              "    </tr>\n",
              "    <tr>\n",
              "      <th>3</th>\n",
              "      <td>3</td>\n",
              "      <td>Russell Adams</td>\n",
              "      <td>@radamsWSJ</td>\n",
              "      <td>Verified account</td>\n",
              "      <td>https://nitter.net/pic/profile_images%2F101741...</td>\n",
              "      <td>1017417590686142464</td>\n",
              "      <td>Deputy corporate bureau chief at WSJ, dad and ...</td>\n",
              "      <td>New York, NY</td>\n",
              "      <td>NaN</td>\n",
              "      <td>9:05 PM - 14 Nov 2008</td>\n",
              "      <td>646.0</td>\n",
              "      <td>423</td>\n",
              "      <td>1506.0</td>\n",
              "      <td>1565.0</td>\n",
              "      <td>{\"0\": {\"tweet_id\": 1347186876663402498, \"text\"...</td>\n",
              "    </tr>\n",
              "    <tr>\n",
              "      <th>4</th>\n",
              "      <td>4</td>\n",
              "      <td>Janet Adamy</td>\n",
              "      <td>@janetadamy</td>\n",
              "      <td>Verified account</td>\n",
              "      <td>https://nitter.net/pic/profile_images%2F121394...</td>\n",
              "      <td>1213942742738460679</td>\n",
              "      <td>News Editor at the Wall Street Journal who wri...</td>\n",
              "      <td>Washington, D.C.</td>\n",
              "      <td>NaN</td>\n",
              "      <td>4:46 PM - 7 Jun 2009</td>\n",
              "      <td>1668.0</td>\n",
              "      <td>407</td>\n",
              "      <td>6936.0</td>\n",
              "      <td>306.0</td>\n",
              "      <td>{\"0\": {\"tweet_id\": 1353722549033697286, \"text\"...</td>\n",
              "    </tr>\n",
              "  </tbody>\n",
              "</table>\n",
              "</div>"
            ],
            "text/plain": [
              "   Unnamed: 0  ...                                              tweet\n",
              "0           0  ...  {\"0\": {\"tweet_id\": 1332478765188997121, \"text\"...\n",
              "1           1  ...  {\"0\": {\"tweet_id\": 1353750656386035714, \"text\"...\n",
              "2           2  ...  {\"0\": {\"tweet_id\": 1353013120017555456, \"text\"...\n",
              "3           3  ...  {\"0\": {\"tweet_id\": 1347186876663402498, \"text\"...\n",
              "4           4  ...  {\"0\": {\"tweet_id\": 1353722549033697286, \"text\"...\n",
              "\n",
              "[5 rows x 15 columns]"
            ]
          },
          "metadata": {
            "tags": []
          },
          "execution_count": 68
        }
      ]
    },
    {
      "cell_type": "code",
      "metadata": {
        "id": "YTFZoE-eAH7n"
      },
      "source": [
        "sorted_frame_followers = frame.sort_values('followers',ascending=False)\r\n",
        "sorted_frame_posts = frame.sort_values('no_of_posts',ascending=False)\r\n",
        "sorted_frame_likes = frame.sort_values('likes',ascending=False)"
      ],
      "execution_count": 69,
      "outputs": []
    },
    {
      "cell_type": "code",
      "metadata": {
        "colab": {
          "base_uri": "https://localhost:8080/",
          "height": 635
        },
        "id": "iyclnEP3DLrG",
        "outputId": "07756055-302a-4077-beba-6d7836df4e26"
      },
      "source": [
        "#most followed author from wsj\r\n",
        "sorted_frame_followers.head(5)"
      ],
      "execution_count": 70,
      "outputs": [
        {
          "output_type": "execute_result",
          "data": {
            "text/html": [
              "<div>\n",
              "<style scoped>\n",
              "    .dataframe tbody tr th:only-of-type {\n",
              "        vertical-align: middle;\n",
              "    }\n",
              "\n",
              "    .dataframe tbody tr th {\n",
              "        vertical-align: top;\n",
              "    }\n",
              "\n",
              "    .dataframe thead th {\n",
              "        text-align: right;\n",
              "    }\n",
              "</style>\n",
              "<table border=\"1\" class=\"dataframe\">\n",
              "  <thead>\n",
              "    <tr style=\"text-align: right;\">\n",
              "      <th></th>\n",
              "      <th>Unnamed: 0</th>\n",
              "      <th>author_name</th>\n",
              "      <th>twitter_username</th>\n",
              "      <th>verified</th>\n",
              "      <th>profile_picture</th>\n",
              "      <th>user_id</th>\n",
              "      <th>bio</th>\n",
              "      <th>profile_location</th>\n",
              "      <th>profile_website</th>\n",
              "      <th>profile_join_date</th>\n",
              "      <th>no_of_posts</th>\n",
              "      <th>following</th>\n",
              "      <th>followers</th>\n",
              "      <th>likes</th>\n",
              "      <th>tweet</th>\n",
              "    </tr>\n",
              "  </thead>\n",
              "  <tbody>\n",
              "    <tr>\n",
              "      <th>434</th>\n",
              "      <td>434</td>\n",
              "      <td>Kimberley Strassel</td>\n",
              "      <td>@KimStrassel</td>\n",
              "      <td>Verified account</td>\n",
              "      <td>https://nitter.net/pic/profile_images%2F165821...</td>\n",
              "      <td>1658210459</td>\n",
              "      <td>Potomac Watch columnist for Wall Street Journa...</td>\n",
              "      <td>NaN</td>\n",
              "      <td>NaN</td>\n",
              "      <td>3:00 PM - 4 Oct 2011</td>\n",
              "      <td>7335.0</td>\n",
              "      <td>476</td>\n",
              "      <td>422606.0</td>\n",
              "      <td>4876.0</td>\n",
              "      <td>{\"0\": {\"tweet_id\": 1204461923225354240, \"text\"...</td>\n",
              "    </tr>\n",
              "    <tr>\n",
              "      <th>335</th>\n",
              "      <td>335</td>\n",
              "      <td>Peggy Noonan</td>\n",
              "      <td>@Peggynoonannyc</td>\n",
              "      <td>Verified account</td>\n",
              "      <td>https://nitter.net/pic/profile_images%2F110126...</td>\n",
              "      <td>1101268900405305345</td>\n",
              "      <td>WSJ columnist and author of nine books on US p...</td>\n",
              "      <td>New York, New York</td>\n",
              "      <td>NaN</td>\n",
              "      <td>2:29 PM - 26 Apr 2009</td>\n",
              "      <td>10225.0</td>\n",
              "      <td>1,262</td>\n",
              "      <td>198175.0</td>\n",
              "      <td>465.0</td>\n",
              "      <td>{\"0\": {\"tweet_id\": 1106321255366623232, \"text\"...</td>\n",
              "    </tr>\n",
              "    <tr>\n",
              "      <th>513</th>\n",
              "      <td>513</td>\n",
              "      <td>Jason Zweig</td>\n",
              "      <td>@jasonzweigwsj</td>\n",
              "      <td>Verified account</td>\n",
              "      <td>https://nitter.net/pic/profile_images%2F855548...</td>\n",
              "      <td>855548242</td>\n",
              "      <td>Investing columnist for @WSJ. Editor, Benjamin...</td>\n",
              "      <td>The Wall Street Journal</td>\n",
              "      <td>jasonzweig.com</td>\n",
              "      <td>10:44 PM - 10 Nov 2009</td>\n",
              "      <td>20967.0</td>\n",
              "      <td>2,095</td>\n",
              "      <td>189479.0</td>\n",
              "      <td>4061.0</td>\n",
              "      <td>{\"0\": {\"tweet_id\": 805954047282991105, \"text\":...</td>\n",
              "    </tr>\n",
              "    <tr>\n",
              "      <th>113</th>\n",
              "      <td>113</td>\n",
              "      <td>Sadanand Dhume</td>\n",
              "      <td>@dhume</td>\n",
              "      <td>Verified account</td>\n",
              "      <td>https://nitter.net/pic/profile_images%2F104101...</td>\n",
              "      <td>1041010595301126144</td>\n",
              "      <td>AEI Fellow, WSJ Columnist, FP Twitterati 100. ...</td>\n",
              "      <td>Washington, DC</td>\n",
              "      <td>aei.org/author/sadanand-dhum…</td>\n",
              "      <td>5:34 PM - 16 Jun 2009</td>\n",
              "      <td>54014.0</td>\n",
              "      <td>966</td>\n",
              "      <td>161749.0</td>\n",
              "      <td>21946.0</td>\n",
              "      <td>{\"0\": {\"tweet_id\": 1352349781348257793, \"text\"...</td>\n",
              "    </tr>\n",
              "    <tr>\n",
              "      <th>430</th>\n",
              "      <td>430</td>\n",
              "      <td>Joanna Stern</td>\n",
              "      <td>@JoannaStern</td>\n",
              "      <td>Verified account</td>\n",
              "      <td>https://nitter.net/pic/profile_images%2F125922...</td>\n",
              "      <td>1259220736759259146</td>\n",
              "      <td>I've got a one tech mind. @WSJ Senior Personal...</td>\n",
              "      <td>New York</td>\n",
              "      <td>instagram.com/joannastern</td>\n",
              "      <td>8:48 PM - 26 Jul 2007</td>\n",
              "      <td>35505.0</td>\n",
              "      <td>2,133</td>\n",
              "      <td>141876.0</td>\n",
              "      <td>27668.0</td>\n",
              "      <td>{\"0\": {\"tweet_id\": 1337830772699500545, \"text\"...</td>\n",
              "    </tr>\n",
              "  </tbody>\n",
              "</table>\n",
              "</div>"
            ],
            "text/plain": [
              "     Unnamed: 0  ...                                              tweet\n",
              "434         434  ...  {\"0\": {\"tweet_id\": 1204461923225354240, \"text\"...\n",
              "335         335  ...  {\"0\": {\"tweet_id\": 1106321255366623232, \"text\"...\n",
              "513         513  ...  {\"0\": {\"tweet_id\": 805954047282991105, \"text\":...\n",
              "113         113  ...  {\"0\": {\"tweet_id\": 1352349781348257793, \"text\"...\n",
              "430         430  ...  {\"0\": {\"tweet_id\": 1337830772699500545, \"text\"...\n",
              "\n",
              "[5 rows x 15 columns]"
            ]
          },
          "metadata": {
            "tags": []
          },
          "execution_count": 70
        }
      ]
    },
    {
      "cell_type": "code",
      "metadata": {
        "colab": {
          "base_uri": "https://localhost:8080/",
          "height": 501
        },
        "id": "5X8YdOi7DlhX",
        "outputId": "198f1fbd-03d5-4ebc-ee6d-594286354476"
      },
      "source": [
        "#most no of posts\r\n",
        "sorted_frame_posts.head()"
      ],
      "execution_count": 71,
      "outputs": [
        {
          "output_type": "execute_result",
          "data": {
            "text/html": [
              "<div>\n",
              "<style scoped>\n",
              "    .dataframe tbody tr th:only-of-type {\n",
              "        vertical-align: middle;\n",
              "    }\n",
              "\n",
              "    .dataframe tbody tr th {\n",
              "        vertical-align: top;\n",
              "    }\n",
              "\n",
              "    .dataframe thead th {\n",
              "        text-align: right;\n",
              "    }\n",
              "</style>\n",
              "<table border=\"1\" class=\"dataframe\">\n",
              "  <thead>\n",
              "    <tr style=\"text-align: right;\">\n",
              "      <th></th>\n",
              "      <th>Unnamed: 0</th>\n",
              "      <th>author_name</th>\n",
              "      <th>twitter_username</th>\n",
              "      <th>verified</th>\n",
              "      <th>profile_picture</th>\n",
              "      <th>user_id</th>\n",
              "      <th>bio</th>\n",
              "      <th>profile_location</th>\n",
              "      <th>profile_website</th>\n",
              "      <th>profile_join_date</th>\n",
              "      <th>no_of_posts</th>\n",
              "      <th>following</th>\n",
              "      <th>followers</th>\n",
              "      <th>likes</th>\n",
              "      <th>tweet</th>\n",
              "    </tr>\n",
              "  </thead>\n",
              "  <tbody>\n",
              "    <tr>\n",
              "      <th>314</th>\n",
              "      <td>314</td>\n",
              "      <td>Heidi N. Moore</td>\n",
              "      <td>@moorehn</td>\n",
              "      <td>Verified account</td>\n",
              "      <td>https://nitter.net/pic/profile_images%2F133119...</td>\n",
              "      <td>1331192487470374913</td>\n",
              "      <td>Writer, pet aficionado. Priors: media startup ...</td>\n",
              "      <td>Here and there, hither and yon (NYC/Paris)heid...</td>\n",
              "      <td>NaN</td>\n",
              "      <td>4:29 AM - 28 Nov 2008</td>\n",
              "      <td>159352.0</td>\n",
              "      <td>7,185</td>\n",
              "      <td>103918.0</td>\n",
              "      <td>405035.0</td>\n",
              "      <td>{\"0\": {\"tweet_id\": 1348138230990962690, \"text\"...</td>\n",
              "    </tr>\n",
              "    <tr>\n",
              "      <th>465</th>\n",
              "      <td>465</td>\n",
              "      <td>Paul Vieira</td>\n",
              "      <td>@paulvieira</td>\n",
              "      <td>Verified account</td>\n",
              "      <td>https://nitter.net/pic/profile_images%2F839118...</td>\n",
              "      <td>839118100188422145</td>\n",
              "      <td>Ottawa correspondent for @WSJ; Real Madrid fan...</td>\n",
              "      <td>Ottawa, Ontario</td>\n",
              "      <td>wsj.com/news/world/canada</td>\n",
              "      <td>6:56 PM - 11 Feb 2009</td>\n",
              "      <td>141075.0</td>\n",
              "      <td>3,183</td>\n",
              "      <td>11452.0</td>\n",
              "      <td>11689.0</td>\n",
              "      <td>{\"0\": {\"tweet_id\": 1284920697165426689, \"text\"...</td>\n",
              "    </tr>\n",
              "    <tr>\n",
              "      <th>192</th>\n",
              "      <td>192</td>\n",
              "      <td>katie honan</td>\n",
              "      <td>@katie_honan</td>\n",
              "      <td>Verified account</td>\n",
              "      <td>https://nitter.net/pic/profile_images%2F119459...</td>\n",
              "      <td>1194593509132709889</td>\n",
              "      <td>City Hall reporter for @WSJNY. Townie. \"Peace ...</td>\n",
              "      <td>Q53</td>\n",
              "      <td>katiehonan.com</td>\n",
              "      <td>2:12 AM - 31 Aug 2009</td>\n",
              "      <td>87103.0</td>\n",
              "      <td>3,599</td>\n",
              "      <td>19065.0</td>\n",
              "      <td>38235.0</td>\n",
              "      <td>Protected Account</td>\n",
              "    </tr>\n",
              "    <tr>\n",
              "      <th>355</th>\n",
              "      <td>355</td>\n",
              "      <td>Ben Pershing</td>\n",
              "      <td>@benpershing</td>\n",
              "      <td>Verified account</td>\n",
              "      <td>https://nitter.net/pic/profile_images%2F122040...</td>\n",
              "      <td>1220402967267958785</td>\n",
              "      <td>Politics Editor @WSJ. Former @nationaljournal ...</td>\n",
              "      <td>Washington, DC</td>\n",
              "      <td>wsj.com/news/politics</td>\n",
              "      <td>8:29 PM - 19 Jan 2010</td>\n",
              "      <td>71302.0</td>\n",
              "      <td>5,625</td>\n",
              "      <td>18368.0</td>\n",
              "      <td>8383.0</td>\n",
              "      <td>{\"0\": {\"tweet_id\": 908407309902204928, \"text\":...</td>\n",
              "    </tr>\n",
              "    <tr>\n",
              "      <th>490</th>\n",
              "      <td>490</td>\n",
              "      <td>Lindsay Wise</td>\n",
              "      <td>@lindsaywise</td>\n",
              "      <td>Verified account</td>\n",
              "      <td>https://nitter.net/pic/profile_images%2F114652...</td>\n",
              "      <td>1146521980721606661</td>\n",
              "      <td>Covering Congress for @WSJ. Formerly @KCStar, ...</td>\n",
              "      <td>Washington, DC</td>\n",
              "      <td>wsj.com</td>\n",
              "      <td>5:22 AM - 5 May 2009</td>\n",
              "      <td>62185.0</td>\n",
              "      <td>12,467</td>\n",
              "      <td>15117.0</td>\n",
              "      <td>3214.0</td>\n",
              "      <td>{\"0\": {\"tweet_id\": 1353756298169495552, \"text\"...</td>\n",
              "    </tr>\n",
              "  </tbody>\n",
              "</table>\n",
              "</div>"
            ],
            "text/plain": [
              "     Unnamed: 0  ...                                              tweet\n",
              "314         314  ...  {\"0\": {\"tweet_id\": 1348138230990962690, \"text\"...\n",
              "465         465  ...  {\"0\": {\"tweet_id\": 1284920697165426689, \"text\"...\n",
              "192         192  ...                                  Protected Account\n",
              "355         355  ...  {\"0\": {\"tweet_id\": 908407309902204928, \"text\":...\n",
              "490         490  ...  {\"0\": {\"tweet_id\": 1353756298169495552, \"text\"...\n",
              "\n",
              "[5 rows x 15 columns]"
            ]
          },
          "metadata": {
            "tags": []
          },
          "execution_count": 71
        }
      ]
    },
    {
      "cell_type": "code",
      "metadata": {
        "colab": {
          "base_uri": "https://localhost:8080/",
          "height": 602
        },
        "id": "lwbM5CWbE35W",
        "outputId": "397ca53b-4317-4676-ea25-b3ef8dba2e79"
      },
      "source": [
        "#most no of likes\r\n",
        "sorted_frame_likes.head()"
      ],
      "execution_count": 72,
      "outputs": [
        {
          "output_type": "execute_result",
          "data": {
            "text/html": [
              "<div>\n",
              "<style scoped>\n",
              "    .dataframe tbody tr th:only-of-type {\n",
              "        vertical-align: middle;\n",
              "    }\n",
              "\n",
              "    .dataframe tbody tr th {\n",
              "        vertical-align: top;\n",
              "    }\n",
              "\n",
              "    .dataframe thead th {\n",
              "        text-align: right;\n",
              "    }\n",
              "</style>\n",
              "<table border=\"1\" class=\"dataframe\">\n",
              "  <thead>\n",
              "    <tr style=\"text-align: right;\">\n",
              "      <th></th>\n",
              "      <th>Unnamed: 0</th>\n",
              "      <th>author_name</th>\n",
              "      <th>twitter_username</th>\n",
              "      <th>verified</th>\n",
              "      <th>profile_picture</th>\n",
              "      <th>user_id</th>\n",
              "      <th>bio</th>\n",
              "      <th>profile_location</th>\n",
              "      <th>profile_website</th>\n",
              "      <th>profile_join_date</th>\n",
              "      <th>no_of_posts</th>\n",
              "      <th>following</th>\n",
              "      <th>followers</th>\n",
              "      <th>likes</th>\n",
              "      <th>tweet</th>\n",
              "    </tr>\n",
              "  </thead>\n",
              "  <tbody>\n",
              "    <tr>\n",
              "      <th>314</th>\n",
              "      <td>314</td>\n",
              "      <td>Heidi N. Moore</td>\n",
              "      <td>@moorehn</td>\n",
              "      <td>Verified account</td>\n",
              "      <td>https://nitter.net/pic/profile_images%2F133119...</td>\n",
              "      <td>1331192487470374913</td>\n",
              "      <td>Writer, pet aficionado. Priors: media startup ...</td>\n",
              "      <td>Here and there, hither and yon (NYC/Paris)heid...</td>\n",
              "      <td>NaN</td>\n",
              "      <td>4:29 AM - 28 Nov 2008</td>\n",
              "      <td>159352.0</td>\n",
              "      <td>7,185</td>\n",
              "      <td>103918.0</td>\n",
              "      <td>405035.0</td>\n",
              "      <td>{\"0\": {\"tweet_id\": 1348138230990962690, \"text\"...</td>\n",
              "    </tr>\n",
              "    <tr>\n",
              "      <th>309</th>\n",
              "      <td>309</td>\n",
              "      <td>Christopher Mims</td>\n",
              "      <td>@mims</td>\n",
              "      <td>Verified account</td>\n",
              "      <td>https://nitter.net/pic/profile_images%2F131179...</td>\n",
              "      <td>1311795967486820353</td>\n",
              "      <td>Former baby and aspiring ghost. Weekly column ...</td>\n",
              "      <td>Baltimore, MD</td>\n",
              "      <td>mims.club</td>\n",
              "      <td>5:01 PM - 21 Mar 2007</td>\n",
              "      <td>471.0</td>\n",
              "      <td>4,093</td>\n",
              "      <td>97665.0</td>\n",
              "      <td>219123.0</td>\n",
              "      <td>{\"0\": {\"tweet_id\": 1353375624690327559, \"text\"...</td>\n",
              "    </tr>\n",
              "    <tr>\n",
              "      <th>70</th>\n",
              "      <td>70</td>\n",
              "      <td>Julia Carpenter</td>\n",
              "      <td>@juliaccarpenter</td>\n",
              "      <td>Verified account</td>\n",
              "      <td>https://nitter.net/pic/profile_images%2F130965...</td>\n",
              "      <td>1309650804568186880</td>\n",
              "      <td>- I write about money at @WSJ 📓  \\n- I mentor ...</td>\n",
              "      <td>New York, NY</td>\n",
              "      <td>juliaccarpenter.com/</td>\n",
              "      <td>5:43 AM - 11 Nov 2011</td>\n",
              "      <td>20120.0</td>\n",
              "      <td>882</td>\n",
              "      <td>13239.0</td>\n",
              "      <td>73348.0</td>\n",
              "      <td>Protected Account</td>\n",
              "    </tr>\n",
              "    <tr>\n",
              "      <th>189</th>\n",
              "      <td>189</td>\n",
              "      <td>Sophia Hollander</td>\n",
              "      <td>@hollanderfiles</td>\n",
              "      <td>Verified account</td>\n",
              "      <td>https://nitter.net/pic/profile_images%2F312673...</td>\n",
              "      <td>3126734075</td>\n",
              "      <td>Editor/writer with bylines at New Yorker, WSJ,...</td>\n",
              "      <td>NaN</td>\n",
              "      <td>NaN</td>\n",
              "      <td>8:41 PM - 17 Jan 2013</td>\n",
              "      <td>17265.0</td>\n",
              "      <td>1,765</td>\n",
              "      <td>1262.0</td>\n",
              "      <td>60535.0</td>\n",
              "      <td>{\"0\": {\"tweet_id\": 1021454538027433985, \"text\"...</td>\n",
              "    </tr>\n",
              "    <tr>\n",
              "      <th>107</th>\n",
              "      <td>107</td>\n",
              "      <td>Anthony DeRosa 🗽</td>\n",
              "      <td>@Anthony</td>\n",
              "      <td>Verified account</td>\n",
              "      <td>https://nitter.net/pic/profile_images%2F989547...</td>\n",
              "      <td>989547404742414336</td>\n",
              "      <td>Strategy Editor at @WSJ - U.S. News, Investiga...</td>\n",
              "      <td>Signal</td>\n",
              "      <td>antderosa.com/bio/</td>\n",
              "      <td>5:45 AM - 14 Mar 2007</td>\n",
              "      <td>2695.0</td>\n",
              "      <td>7,549</td>\n",
              "      <td>103248.0</td>\n",
              "      <td>52703.0</td>\n",
              "      <td>{\"0\": {\"tweet_id\": 1352667829967990785, \"text\"...</td>\n",
              "    </tr>\n",
              "  </tbody>\n",
              "</table>\n",
              "</div>"
            ],
            "text/plain": [
              "     Unnamed: 0  ...                                              tweet\n",
              "314         314  ...  {\"0\": {\"tweet_id\": 1348138230990962690, \"text\"...\n",
              "309         309  ...  {\"0\": {\"tweet_id\": 1353375624690327559, \"text\"...\n",
              "70           70  ...                                  Protected Account\n",
              "189         189  ...  {\"0\": {\"tweet_id\": 1021454538027433985, \"text\"...\n",
              "107         107  ...  {\"0\": {\"tweet_id\": 1352667829967990785, \"text\"...\n",
              "\n",
              "[5 rows x 15 columns]"
            ]
          },
          "metadata": {
            "tags": []
          },
          "execution_count": 72
        }
      ]
    },
    {
      "cell_type": "code",
      "metadata": {
        "id": "numGFFWRZIpJ"
      },
      "source": [
        "def clean_numbers(x):\r\n",
        "  new_num = \"\"\r\n",
        "  # print(type(x))\r\n",
        "  if type(x) != type(1.0):\r\n",
        "    for i in x:\r\n",
        "      if i.isnumeric():\r\n",
        "        new_num+=i\r\n",
        "    return int(new_num)\r\n",
        "  else:\r\n",
        "    return None\r\n",
        "\r\n",
        "\r\n",
        "def normal_eda(frame,query = 'followers'):\r\n",
        "  \"\"\"\r\n",
        "  returns the top 5 authors depending upon the query \r\n",
        "  followers,no_of_posts,likes\r\n",
        "\r\n",
        "  \"\"\"\r\n",
        "\r\n",
        "  if query == 'followers':\r\n",
        "    frame.followers = frame.followers.apply(clean_numbers)\r\n",
        "    sorted_frame = frame.sort_values('followers',ascending=False)\r\n",
        "  elif query == 'no_of_posts':\r\n",
        "    frame.no_of_posts = frame.no_of_posts.apply(clean_numbers)\r\n",
        "    sorted_frame = frame.sort_values('no_of_posts',ascending=False)\r\n",
        "  else:\r\n",
        "    frame.likes = frame.likes.apply(clean_numbers)\r\n",
        "    sorted_frame = frame.sort_values('likes',ascending=False)\r\n",
        "  try:\r\n",
        "    sorted_frame = sorted_frame.drop(\"Unnamed: 0\",axis =1)\r\n",
        "  except:\r\n",
        "    pass\r\n",
        "  return sorted_frame.head()"
      ],
      "execution_count": 73,
      "outputs": []
    },
    {
      "cell_type": "code",
      "metadata": {
        "colab": {
          "base_uri": "https://localhost:8080/",
          "height": 484
        },
        "id": "CPbr4ZJ3aV1W",
        "outputId": "00faaf92-2be9-4eeb-b7a6-3a69466b8666"
      },
      "source": [
        "test_frame = pd.read_csv('wsj_authors_twitter_improved.csv')\r\n",
        "normal_eda(test_frame,\"no_of_posts\")"
      ],
      "execution_count": 74,
      "outputs": [
        {
          "output_type": "execute_result",
          "data": {
            "text/html": [
              "<div>\n",
              "<style scoped>\n",
              "    .dataframe tbody tr th:only-of-type {\n",
              "        vertical-align: middle;\n",
              "    }\n",
              "\n",
              "    .dataframe tbody tr th {\n",
              "        vertical-align: top;\n",
              "    }\n",
              "\n",
              "    .dataframe thead th {\n",
              "        text-align: right;\n",
              "    }\n",
              "</style>\n",
              "<table border=\"1\" class=\"dataframe\">\n",
              "  <thead>\n",
              "    <tr style=\"text-align: right;\">\n",
              "      <th></th>\n",
              "      <th>author_name</th>\n",
              "      <th>twitter_username</th>\n",
              "      <th>verified</th>\n",
              "      <th>profile_picture</th>\n",
              "      <th>user_id</th>\n",
              "      <th>bio</th>\n",
              "      <th>profile_location</th>\n",
              "      <th>profile_website</th>\n",
              "      <th>profile_join_date</th>\n",
              "      <th>no_of_posts</th>\n",
              "      <th>following</th>\n",
              "      <th>followers</th>\n",
              "      <th>likes</th>\n",
              "      <th>tweet</th>\n",
              "    </tr>\n",
              "  </thead>\n",
              "  <tbody>\n",
              "    <tr>\n",
              "      <th>314</th>\n",
              "      <td>Heidi N. Moore</td>\n",
              "      <td>@moorehn</td>\n",
              "      <td>Verified account</td>\n",
              "      <td>https://nitter.net/pic/profile_images%2F133119...</td>\n",
              "      <td>1331192487470374913</td>\n",
              "      <td>Writer, pet aficionado. Priors: media startup ...</td>\n",
              "      <td>Here and there, hither and yon (NYC/Paris)heid...</td>\n",
              "      <td>NaN</td>\n",
              "      <td>4:29 AM - 28 Nov 2008</td>\n",
              "      <td>159352.0</td>\n",
              "      <td>7,185</td>\n",
              "      <td>103,918</td>\n",
              "      <td>405,035</td>\n",
              "      <td>{\"0\": {\"tweet_id\": 1348138230990962690, \"text\"...</td>\n",
              "    </tr>\n",
              "    <tr>\n",
              "      <th>465</th>\n",
              "      <td>Paul Vieira</td>\n",
              "      <td>@paulvieira</td>\n",
              "      <td>Verified account</td>\n",
              "      <td>https://nitter.net/pic/profile_images%2F839118...</td>\n",
              "      <td>839118100188422145</td>\n",
              "      <td>Ottawa correspondent for @WSJ; Real Madrid fan...</td>\n",
              "      <td>Ottawa, Ontario</td>\n",
              "      <td>wsj.com/news/world/canada</td>\n",
              "      <td>6:56 PM - 11 Feb 2009</td>\n",
              "      <td>141075.0</td>\n",
              "      <td>3,183</td>\n",
              "      <td>11,452</td>\n",
              "      <td>11,689</td>\n",
              "      <td>{\"0\": {\"tweet_id\": 1284920697165426689, \"text\"...</td>\n",
              "    </tr>\n",
              "    <tr>\n",
              "      <th>192</th>\n",
              "      <td>katie honan</td>\n",
              "      <td>@katie_honan</td>\n",
              "      <td>Verified account</td>\n",
              "      <td>https://nitter.net/pic/profile_images%2F119459...</td>\n",
              "      <td>1194593509132709889</td>\n",
              "      <td>City Hall reporter for @WSJNY. Townie. \"Peace ...</td>\n",
              "      <td>Q53</td>\n",
              "      <td>katiehonan.com</td>\n",
              "      <td>2:12 AM - 31 Aug 2009</td>\n",
              "      <td>87103.0</td>\n",
              "      <td>3,599</td>\n",
              "      <td>19,065</td>\n",
              "      <td>38,235</td>\n",
              "      <td>Protected Account</td>\n",
              "    </tr>\n",
              "    <tr>\n",
              "      <th>355</th>\n",
              "      <td>Ben Pershing</td>\n",
              "      <td>@benpershing</td>\n",
              "      <td>Verified account</td>\n",
              "      <td>https://nitter.net/pic/profile_images%2F122040...</td>\n",
              "      <td>1220402967267958785</td>\n",
              "      <td>Politics Editor @WSJ. Former @nationaljournal ...</td>\n",
              "      <td>Washington, DC</td>\n",
              "      <td>wsj.com/news/politics</td>\n",
              "      <td>8:29 PM - 19 Jan 2010</td>\n",
              "      <td>71302.0</td>\n",
              "      <td>5,625</td>\n",
              "      <td>18,368</td>\n",
              "      <td>8,383</td>\n",
              "      <td>{\"0\": {\"tweet_id\": 908407309902204928, \"text\":...</td>\n",
              "    </tr>\n",
              "    <tr>\n",
              "      <th>490</th>\n",
              "      <td>Lindsay Wise</td>\n",
              "      <td>@lindsaywise</td>\n",
              "      <td>Verified account</td>\n",
              "      <td>https://nitter.net/pic/profile_images%2F114652...</td>\n",
              "      <td>1146521980721606661</td>\n",
              "      <td>Covering Congress for @WSJ. Formerly @KCStar, ...</td>\n",
              "      <td>Washington, DC</td>\n",
              "      <td>wsj.com</td>\n",
              "      <td>5:22 AM - 5 May 2009</td>\n",
              "      <td>62185.0</td>\n",
              "      <td>12,467</td>\n",
              "      <td>15,117</td>\n",
              "      <td>3,214</td>\n",
              "      <td>{\"0\": {\"tweet_id\": 1353756298169495552, \"text\"...</td>\n",
              "    </tr>\n",
              "  </tbody>\n",
              "</table>\n",
              "</div>"
            ],
            "text/plain": [
              "        author_name  ...                                              tweet\n",
              "314  Heidi N. Moore  ...  {\"0\": {\"tweet_id\": 1348138230990962690, \"text\"...\n",
              "465     Paul Vieira  ...  {\"0\": {\"tweet_id\": 1284920697165426689, \"text\"...\n",
              "192     katie honan  ...                                  Protected Account\n",
              "355    Ben Pershing  ...  {\"0\": {\"tweet_id\": 908407309902204928, \"text\":...\n",
              "490    Lindsay Wise  ...  {\"0\": {\"tweet_id\": 1353756298169495552, \"text\"...\n",
              "\n",
              "[5 rows x 14 columns]"
            ]
          },
          "metadata": {
            "tags": []
          },
          "execution_count": 74
        }
      ]
    },
    {
      "cell_type": "code",
      "metadata": {
        "colab": {
          "base_uri": "https://localhost:8080/",
          "height": 585
        },
        "id": "DJJKYFwEba02",
        "outputId": "bb11ce76-28ad-4461-e7f8-1249ea722cbe"
      },
      "source": [
        "normal_eda(test_frame,'likes')"
      ],
      "execution_count": 75,
      "outputs": [
        {
          "output_type": "execute_result",
          "data": {
            "text/html": [
              "<div>\n",
              "<style scoped>\n",
              "    .dataframe tbody tr th:only-of-type {\n",
              "        vertical-align: middle;\n",
              "    }\n",
              "\n",
              "    .dataframe tbody tr th {\n",
              "        vertical-align: top;\n",
              "    }\n",
              "\n",
              "    .dataframe thead th {\n",
              "        text-align: right;\n",
              "    }\n",
              "</style>\n",
              "<table border=\"1\" class=\"dataframe\">\n",
              "  <thead>\n",
              "    <tr style=\"text-align: right;\">\n",
              "      <th></th>\n",
              "      <th>author_name</th>\n",
              "      <th>twitter_username</th>\n",
              "      <th>verified</th>\n",
              "      <th>profile_picture</th>\n",
              "      <th>user_id</th>\n",
              "      <th>bio</th>\n",
              "      <th>profile_location</th>\n",
              "      <th>profile_website</th>\n",
              "      <th>profile_join_date</th>\n",
              "      <th>no_of_posts</th>\n",
              "      <th>following</th>\n",
              "      <th>followers</th>\n",
              "      <th>likes</th>\n",
              "      <th>tweet</th>\n",
              "    </tr>\n",
              "  </thead>\n",
              "  <tbody>\n",
              "    <tr>\n",
              "      <th>314</th>\n",
              "      <td>Heidi N. Moore</td>\n",
              "      <td>@moorehn</td>\n",
              "      <td>Verified account</td>\n",
              "      <td>https://nitter.net/pic/profile_images%2F133119...</td>\n",
              "      <td>1331192487470374913</td>\n",
              "      <td>Writer, pet aficionado. Priors: media startup ...</td>\n",
              "      <td>Here and there, hither and yon (NYC/Paris)heid...</td>\n",
              "      <td>NaN</td>\n",
              "      <td>4:29 AM - 28 Nov 2008</td>\n",
              "      <td>159352.0</td>\n",
              "      <td>7,185</td>\n",
              "      <td>103,918</td>\n",
              "      <td>405035.0</td>\n",
              "      <td>{\"0\": {\"tweet_id\": 1348138230990962690, \"text\"...</td>\n",
              "    </tr>\n",
              "    <tr>\n",
              "      <th>309</th>\n",
              "      <td>Christopher Mims</td>\n",
              "      <td>@mims</td>\n",
              "      <td>Verified account</td>\n",
              "      <td>https://nitter.net/pic/profile_images%2F131179...</td>\n",
              "      <td>1311795967486820353</td>\n",
              "      <td>Former baby and aspiring ghost. Weekly column ...</td>\n",
              "      <td>Baltimore, MD</td>\n",
              "      <td>mims.club</td>\n",
              "      <td>5:01 PM - 21 Mar 2007</td>\n",
              "      <td>471.0</td>\n",
              "      <td>4,093</td>\n",
              "      <td>97,665</td>\n",
              "      <td>219123.0</td>\n",
              "      <td>{\"0\": {\"tweet_id\": 1353375624690327559, \"text\"...</td>\n",
              "    </tr>\n",
              "    <tr>\n",
              "      <th>70</th>\n",
              "      <td>Julia Carpenter</td>\n",
              "      <td>@juliaccarpenter</td>\n",
              "      <td>Verified account</td>\n",
              "      <td>https://nitter.net/pic/profile_images%2F130965...</td>\n",
              "      <td>1309650804568186880</td>\n",
              "      <td>- I write about money at @WSJ 📓  \\n- I mentor ...</td>\n",
              "      <td>New York, NY</td>\n",
              "      <td>juliaccarpenter.com/</td>\n",
              "      <td>5:43 AM - 11 Nov 2011</td>\n",
              "      <td>20120.0</td>\n",
              "      <td>882</td>\n",
              "      <td>13,239</td>\n",
              "      <td>73348.0</td>\n",
              "      <td>Protected Account</td>\n",
              "    </tr>\n",
              "    <tr>\n",
              "      <th>189</th>\n",
              "      <td>Sophia Hollander</td>\n",
              "      <td>@hollanderfiles</td>\n",
              "      <td>Verified account</td>\n",
              "      <td>https://nitter.net/pic/profile_images%2F312673...</td>\n",
              "      <td>3126734075</td>\n",
              "      <td>Editor/writer with bylines at New Yorker, WSJ,...</td>\n",
              "      <td>NaN</td>\n",
              "      <td>NaN</td>\n",
              "      <td>8:41 PM - 17 Jan 2013</td>\n",
              "      <td>17265.0</td>\n",
              "      <td>1,765</td>\n",
              "      <td>1,262</td>\n",
              "      <td>60535.0</td>\n",
              "      <td>{\"0\": {\"tweet_id\": 1021454538027433985, \"text\"...</td>\n",
              "    </tr>\n",
              "    <tr>\n",
              "      <th>107</th>\n",
              "      <td>Anthony DeRosa 🗽</td>\n",
              "      <td>@Anthony</td>\n",
              "      <td>Verified account</td>\n",
              "      <td>https://nitter.net/pic/profile_images%2F989547...</td>\n",
              "      <td>989547404742414336</td>\n",
              "      <td>Strategy Editor at @WSJ - U.S. News, Investiga...</td>\n",
              "      <td>Signal</td>\n",
              "      <td>antderosa.com/bio/</td>\n",
              "      <td>5:45 AM - 14 Mar 2007</td>\n",
              "      <td>2695.0</td>\n",
              "      <td>7,549</td>\n",
              "      <td>103,248</td>\n",
              "      <td>52703.0</td>\n",
              "      <td>{\"0\": {\"tweet_id\": 1352667829967990785, \"text\"...</td>\n",
              "    </tr>\n",
              "  </tbody>\n",
              "</table>\n",
              "</div>"
            ],
            "text/plain": [
              "          author_name  ...                                              tweet\n",
              "314    Heidi N. Moore  ...  {\"0\": {\"tweet_id\": 1348138230990962690, \"text\"...\n",
              "309  Christopher Mims  ...  {\"0\": {\"tweet_id\": 1353375624690327559, \"text\"...\n",
              "70    Julia Carpenter  ...                                  Protected Account\n",
              "189  Sophia Hollander  ...  {\"0\": {\"tweet_id\": 1021454538027433985, \"text\"...\n",
              "107  Anthony DeRosa 🗽  ...  {\"0\": {\"tweet_id\": 1352667829967990785, \"text\"...\n",
              "\n",
              "[5 rows x 14 columns]"
            ]
          },
          "metadata": {
            "tags": []
          },
          "execution_count": 75
        }
      ]
    },
    {
      "cell_type": "code",
      "metadata": {
        "id": "oOsdVv1NFgJ9"
      },
      "source": [
        "#attempting keyword extraction\r\n",
        "from nltk import tokenize\r\n",
        "from operator import itemgetter\r\n",
        "\r\n",
        "import math"
      ],
      "execution_count": 76,
      "outputs": []
    },
    {
      "cell_type": "code",
      "metadata": {
        "id": "ZfBqrwObY1Tg"
      },
      "source": [
        "key_frame = normal_eda(test_frame,\"likes\")"
      ],
      "execution_count": 77,
      "outputs": []
    },
    {
      "cell_type": "code",
      "metadata": {
        "colab": {
          "base_uri": "https://localhost:8080/",
          "height": 383
        },
        "id": "U9wE7V1jcW2X",
        "outputId": "506991eb-9d7b-406d-f106-b866bba4388f"
      },
      "source": [
        "key_frame.head()"
      ],
      "execution_count": 78,
      "outputs": [
        {
          "output_type": "execute_result",
          "data": {
            "text/html": [
              "<div>\n",
              "<style scoped>\n",
              "    .dataframe tbody tr th:only-of-type {\n",
              "        vertical-align: middle;\n",
              "    }\n",
              "\n",
              "    .dataframe tbody tr th {\n",
              "        vertical-align: top;\n",
              "    }\n",
              "\n",
              "    .dataframe thead th {\n",
              "        text-align: right;\n",
              "    }\n",
              "</style>\n",
              "<table border=\"1\" class=\"dataframe\">\n",
              "  <thead>\n",
              "    <tr style=\"text-align: right;\">\n",
              "      <th></th>\n",
              "      <th>author_name</th>\n",
              "      <th>twitter_username</th>\n",
              "      <th>verified</th>\n",
              "      <th>profile_picture</th>\n",
              "      <th>user_id</th>\n",
              "      <th>bio</th>\n",
              "      <th>profile_location</th>\n",
              "      <th>profile_website</th>\n",
              "      <th>profile_join_date</th>\n",
              "      <th>no_of_posts</th>\n",
              "      <th>following</th>\n",
              "      <th>followers</th>\n",
              "      <th>likes</th>\n",
              "      <th>tweet</th>\n",
              "    </tr>\n",
              "  </thead>\n",
              "  <tbody>\n",
              "    <tr>\n",
              "      <th>0</th>\n",
              "      <td>Steph Aaronson</td>\n",
              "      <td>@stephaaronson</td>\n",
              "      <td>Verified account</td>\n",
              "      <td>https://nitter.net/pic/profile_images%2F110330...</td>\n",
              "      <td>1103304192092004352</td>\n",
              "      <td>Lead photo editor, biz + tech, @wsj. Formerly ...</td>\n",
              "      <td>New York, USA</td>\n",
              "      <td>wsj.com</td>\n",
              "      <td>8:48 PM - 23 Apr 2009</td>\n",
              "      <td>6114.0</td>\n",
              "      <td>1,265</td>\n",
              "      <td>1,553</td>\n",
              "      <td>None</td>\n",
              "      <td>{\"0\": {\"tweet_id\": 1332478765188997121, \"text\"...</td>\n",
              "    </tr>\n",
              "    <tr>\n",
              "      <th>1</th>\n",
              "      <td>Andrew Ackerman</td>\n",
              "      <td>@amacker</td>\n",
              "      <td>Verified account</td>\n",
              "      <td>https://nitter.net/pic/profile_images%2F121522...</td>\n",
              "      <td>1215223628930912257</td>\n",
              "      <td>housing/banking for @wsj. andrew.ackerman@wsj....</td>\n",
              "      <td>The Ackerbunker</td>\n",
              "      <td>online.wsj.com</td>\n",
              "      <td>7:44 PM - 16 Oct 2007</td>\n",
              "      <td>3182.0</td>\n",
              "      <td>1,358</td>\n",
              "      <td>7,411</td>\n",
              "      <td>None</td>\n",
              "      <td>{\"0\": {\"tweet_id\": 1353750656386035714, \"text\"...</td>\n",
              "    </tr>\n",
              "    <tr>\n",
              "      <th>2</th>\n",
              "      <td>Deborah Acosta</td>\n",
              "      <td>@DeborahAcosta</td>\n",
              "      <td>Verified account</td>\n",
              "      <td>https://nitter.net/pic/profile_images%2F131862...</td>\n",
              "      <td>1318626732845445120</td>\n",
              "      <td>Reporter at @WSJ; previously at @MiamiHerald a...</td>\n",
              "      <td>Miami, FL</td>\n",
              "      <td>wsj.com/news/author/deborah-…</td>\n",
              "      <td>4:28 PM - 15 Sep 2008</td>\n",
              "      <td>4620.0</td>\n",
              "      <td>2,846</td>\n",
              "      <td>5,564</td>\n",
              "      <td>None</td>\n",
              "      <td>{\"0\": {\"tweet_id\": 1353013120017555456, \"text\"...</td>\n",
              "    </tr>\n",
              "    <tr>\n",
              "      <th>3</th>\n",
              "      <td>Russell Adams</td>\n",
              "      <td>@radamsWSJ</td>\n",
              "      <td>Verified account</td>\n",
              "      <td>https://nitter.net/pic/profile_images%2F101741...</td>\n",
              "      <td>1017417590686142464</td>\n",
              "      <td>Deputy corporate bureau chief at WSJ, dad and ...</td>\n",
              "      <td>New York, NY</td>\n",
              "      <td>NaN</td>\n",
              "      <td>9:05 PM - 14 Nov 2008</td>\n",
              "      <td>646.0</td>\n",
              "      <td>423</td>\n",
              "      <td>1,506</td>\n",
              "      <td>None</td>\n",
              "      <td>{\"0\": {\"tweet_id\": 1347186876663402498, \"text\"...</td>\n",
              "    </tr>\n",
              "    <tr>\n",
              "      <th>4</th>\n",
              "      <td>Janet Adamy</td>\n",
              "      <td>@janetadamy</td>\n",
              "      <td>Verified account</td>\n",
              "      <td>https://nitter.net/pic/profile_images%2F121394...</td>\n",
              "      <td>1213942742738460679</td>\n",
              "      <td>News Editor at the Wall Street Journal who wri...</td>\n",
              "      <td>Washington, D.C.</td>\n",
              "      <td>NaN</td>\n",
              "      <td>4:46 PM - 7 Jun 2009</td>\n",
              "      <td>1668.0</td>\n",
              "      <td>407</td>\n",
              "      <td>6,936</td>\n",
              "      <td>None</td>\n",
              "      <td>{\"0\": {\"tweet_id\": 1353722549033697286, \"text\"...</td>\n",
              "    </tr>\n",
              "  </tbody>\n",
              "</table>\n",
              "</div>"
            ],
            "text/plain": [
              "       author_name  ...                                              tweet\n",
              "0   Steph Aaronson  ...  {\"0\": {\"tweet_id\": 1332478765188997121, \"text\"...\n",
              "1  Andrew Ackerman  ...  {\"0\": {\"tweet_id\": 1353750656386035714, \"text\"...\n",
              "2   Deborah Acosta  ...  {\"0\": {\"tweet_id\": 1353013120017555456, \"text\"...\n",
              "3    Russell Adams  ...  {\"0\": {\"tweet_id\": 1347186876663402498, \"text\"...\n",
              "4      Janet Adamy  ...  {\"0\": {\"tweet_id\": 1353722549033697286, \"text\"...\n",
              "\n",
              "[5 rows x 14 columns]"
            ]
          },
          "metadata": {
            "tags": []
          },
          "execution_count": 78
        }
      ]
    },
    {
      "cell_type": "code",
      "metadata": {
        "id": "PPEcO1I1calf"
      },
      "source": [
        "def process_tweets(tweet):\r\n",
        "  return json.loads(tweet)\r\n",
        "\r\n",
        "key_frame.tweet = key_frame.tweet.apply(process_tweets)\r\n",
        "\r\n",
        "  "
      ],
      "execution_count": 88,
      "outputs": []
    },
    {
      "cell_type": "code",
      "metadata": {
        "id": "9PeqBJa6Sx9H"
      },
      "source": [
        "doc = \"\"\r\n",
        "for i in range(len(key_frame.tweet.iloc[0])):\r\n",
        "  doc+=key_frame.tweet.iloc[0][str(i)]['text']"
      ],
      "execution_count": 93,
      "outputs": []
    },
    {
      "cell_type": "code",
      "metadata": {
        "colab": {
          "base_uri": "https://localhost:8080/"
        },
        "id": "y0dfgiCCexQS",
        "outputId": "48473f65-dd6d-425d-936e-280125121ac6"
      },
      "source": [
        "import nltk\r\n",
        "from nltk.corpus import stopwords\r\n",
        "from nltk.tokenize import word_tokenize \r\n",
        "nltk.download('stopwords')\r\n",
        "nltk.download('punkt')\r\n",
        "stop_words = set(stopwords.words('english'))"
      ],
      "execution_count": 98,
      "outputs": [
        {
          "output_type": "stream",
          "text": [
            "[nltk_data] Downloading package stopwords to /root/nltk_data...\n",
            "[nltk_data]   Package stopwords is already up-to-date!\n",
            "[nltk_data] Downloading package punkt to /root/nltk_data...\n",
            "[nltk_data]   Unzipping tokenizers/punkt.zip.\n"
          ],
          "name": "stdout"
        }
      ]
    },
    {
      "cell_type": "code",
      "metadata": {
        "colab": {
          "base_uri": "https://localhost:8080/"
        },
        "id": "x5VqwcjcexJM",
        "outputId": "143ea996-d760-46cd-bf66-156faf89c6d2"
      },
      "source": [
        "total_words = doc.split()\r\n",
        "total_word_length = len(total_words)\r\n",
        "print(total_word_length)"
      ],
      "execution_count": 96,
      "outputs": [
        {
          "output_type": "stream",
          "text": [
            "889\n"
          ],
          "name": "stdout"
        }
      ]
    },
    {
      "cell_type": "code",
      "metadata": {
        "colab": {
          "base_uri": "https://localhost:8080/"
        },
        "id": "GiyObzzac-67",
        "outputId": "ea4dfb07-35bb-4ece-a309-68e44c549dac"
      },
      "source": [
        "total_sentences = tokenize.sent_tokenize(doc)\r\n",
        "total_sent_len = len(total_sentences)\r\n",
        "print(total_sent_len)"
      ],
      "execution_count": 99,
      "outputs": [
        {
          "output_type": "stream",
          "text": [
            "31\n"
          ],
          "name": "stdout"
        }
      ]
    },
    {
      "cell_type": "code",
      "metadata": {
        "colab": {
          "base_uri": "https://localhost:8080/"
        },
        "id": "lPqRjYYrdFFT",
        "outputId": "88b80074-ffcd-4422-efb9-0851d91b2aca"
      },
      "source": [
        "tf_score = {}\r\n",
        "for each_word in total_words:\r\n",
        "    each_word = each_word.replace('.','')\r\n",
        "    if each_word not in stop_words:\r\n",
        "        if each_word in tf_score:\r\n",
        "            tf_score[each_word] += 1\r\n",
        "        else:\r\n",
        "            tf_score[each_word] = 1\r\n",
        "\r\n",
        "# Dividing by total_word_length for each dictionary element\r\n",
        "tf_score.update((x, y/int(total_word_length)) for x, y in tf_score.items())\r\n",
        "print(tf_score)"
      ],
      "execution_count": 100,
      "outputs": [
        {
          "output_type": "stream",
          "text": [
            "{'“If': 0.0011248593925759281, 'one': 0.0044994375703037125, 'thing': 0.0011248593925759281, 'mind,': 0.0011248593925759281, 'go': 0.0022497187851518562, 'store': 0.0011248593925759281, 'get': 0.0022497187851518562, 'in-and-out': 0.0011248593925759281, 'fast': 0.0011248593925759281, 'can\"': 0.0011248593925759281, 'Shoppers': 0.0011248593925759281, 'head': 0.0011248593925759281, 'stores': 0.0022497187851518562, 'Black': 0.0011248593925759281, 'Friday': 0.0011248593925759281, 'safety': 0.0011248593925759281, 'mind:': 0.0011248593925759281, 'wsjcom/story/black-friday-s…Great': 0.0011248593925759281, 'story': 0.0011248593925759281, 'Bob': 0.0011248593925759281, 'strong': 0.0011248593925759281, 'photography': 0.0011248593925759281, '@NOLIS!': 0.0011248593925759281, 'Check': 0.0011248593925759281, 'out!Much': 0.0011248593925759281, 'love': 0.0011248593925759281, 'BMW': 0.0011248593925759281, 'parked': 0.0011248593925759281, 'blocking': 0.0011248593925759281, 'garage': 0.0022497187851518562, 'entrance': 0.0011248593925759281, 'snooty': 0.0011248593925759281, 'new': 0.0011248593925759281, 'building': 0.0011248593925759281, 'across': 0.0011248593925759281, 'street': 0.0011248593925759281, 'The': 0.0011248593925759281, 'car': 0.0011248593925759281, 'stuck': 0.0011248593925759281, 'honking': 0.0011248593925759281, 'two': 0.0011248593925759281, 'hours': 0.0011248593925759281, 'annoying,': 0.0011248593925759281, 'hilarious': 0.0011248593925759281, 'I': 0.015748031496062992, 'fueled': 0.0011248593925759281, 'this✨New': 0.0011248593925759281, 'York': 0.0011248593925759281, 'healing✨Does': 0.0011248593925759281, 'everyone': 0.0022497187851518562, 'website': 0.0011248593925759281, 'know': 0.0011248593925759281, 'buy': 0.0011248593925759281, 'milkshake': 0.0011248593925759281, 'machine': 0.0011248593925759281, '$100?': 0.0011248593925759281, 'If': 0.0011248593925759281, 'stop': 0.0022497187851518562, 'spending': 0.0011248593925759281, 'time': 0.0022497187851518562, 'find': 0.0011248593925759281, 'best': 0.0022497187851518562, 'stuff': 0.0011248593925759281, 'webstaurantstorecom/galaxy-…Lot': 0.0011248593925759281, 'people': 0.0022497187851518562, 'bemoaning': 0.0011248593925759281, 'successful': 0.0011248593925759281, 'Jon': 0.0011248593925759281, 'Ossoff': 0.0011248593925759281, 'young': 0.0022497187851518562, 'age,': 0.0011248593925759281, '-': 0.0011248593925759281, \"he's\": 0.0011248593925759281, 'nearly': 0.0011248593925759281, '34!Last': 0.0011248593925759281, 'year': 0.0044994375703037125, 'news': 0.0022497187851518562, 'years': 0.0022497187851518562, 'resolution': 0.0011248593925759281, 'see': 0.0011248593925759281, 'friends': 0.0022497187851518562, 'weekends': 0.0011248593925759281, 'gym': 0.0011248593925759281, '(lol!)': 0.0011248593925759281, 'year,': 0.0011248593925759281, 'resolutions!Instead': 0.0011248593925759281, 'celebrate': 0.0011248593925759281, 'much': 0.0011248593925759281, 'grew': 0.0011248593925759281, 'constantly': 0.0011248593925759281, 'advocated': 0.0011248593925759281, 'health': 0.0011248593925759281, 'pushed': 0.0011248593925759281, 'doctors': 0.0011248593925759281, 'understand': 0.0011248593925759281, 'found': 0.0011248593925759281, 'could': 0.0011248593925759281, 'diagnose': 0.0011248593925759281, 'start': 0.0011248593925759281, 'treating': 0.0011248593925759281, 'That': 0.0011248593925759281, 'took': 0.0022497187851518562, '9': 0.0022497187851518562, 'months': 0.0022497187851518562, 'I’ve': 0.0011248593925759281, 'never': 0.0011248593925759281, 'proud': 0.0011248593925759281, 'myself!Wow': 0.0011248593925759281, '@MaraGay': 0.0011248593925759281, 'words': 0.0011248593925759281, 'ones': 0.0011248593925759281, 'read': 0.0022497187851518562, 'today,': 0.0011248593925759281, 'exactly': 0.0022497187851518562, 'feel': 0.003374578177727784, '✨Grateful': 0.0011248593925759281, '@mkeierleber,': 0.0011248593925759281, 'family': 0.0022497187851518562, 'colleagues': 0.0011248593925759281, '@MountSinaiNYC': 0.0011248593925759281, 'post-covid': 0.0011248593925759281, 'program': 0.0011248593925759281, 'year✨': 0.0011248593925759281, 'nytimescom/2020/12/31/opini…\"A': 0.0011248593925759281, 'lot': 0.0011248593925759281, 'regulars': 0.0011248593925759281, 'aren’t': 0.0011248593925759281, 'here\"': 0.0011248593925759281, 'A': 0.0011248593925759281, 'look': 0.003374578177727784, 'downtown': 0.0011248593925759281, 'businesses': 0.0011248593925759281, 'neighborhood': 0.0011248593925759281, 'adjusted': 0.0011248593925759281, 'survive': 0.0011248593925759281, 'mostly': 0.0011248593925759281, 'vacant': 0.0011248593925759281, 'streets': 0.0011248593925759281, 'offices': 0.0011248593925759281, 'wsjcom/graphics/boston-busi…Maria': 0.0011248593925759281, 'Patton': 0.0011248593925759281, 'lost': 0.0011248593925759281, 'job': 0.0022497187851518562, 'March': 0.0011248593925759281, 'Hoping': 0.0011248593925759281, 'catch': 0.0011248593925759281, 'break': 0.0011248593925759281, 'home': 0.0022497187851518562, 'state': 0.0011248593925759281, 'Tennessee,': 0.0011248593925759281, 'returned': 0.0011248593925759281, '18-year-old': 0.0011248593925759281, 'son': 0.0011248593925759281, 'Asperger': 0.0011248593925759281, 'syndrome': 0.0011248593925759281, '@WSJ': 0.0011248593925759281, 'readers': 0.0011248593925759281, 'raised': 0.0011248593925759281, '$17,000': 0.0011248593925759281, 'since': 0.0011248593925759281, 'published': 0.0022497187851518562, 'wsjcom/articles/covid-19-de…Photographer': 0.0011248593925759281, 'Maryam': 0.0011248593925759281, 'Rahmanian': 0.0011248593925759281, 'followed': 0.0011248593925759281, 'life': 0.0011248593925759281, 'Mahnaz': 0.0011248593925759281, 'Parhizkari,': 0.0011248593925759281, 'working': 0.0011248593925759281, 'single': 0.0011248593925759281, 'mother': 0.0011248593925759281, 'Tehran': 0.0011248593925759281, 'As': 0.0011248593925759281, 'US': 0.0022497187851518562, 'sanctions': 0.0011248593925759281, 'coronavirus': 0.0011248593925759281, 'pandemic': 0.0022497187851518562, 'ravaged': 0.0011248593925759281, 'Iran': 0.0011248593925759281, 'economy': 0.0011248593925759281, 'struggled': 0.0011248593925759281, 'keep': 0.0011248593925759281, 'small': 0.0011248593925759281, 'together': 0.0011248593925759281, 'onwsjcom/3phmJaS': 0.0011248593925759281, '@KeadyMargaret': 0.0011248593925759281, '@WSJphotosNew-York': 0.0011248593925759281, 'Tribune,': 0.0011248593925759281, 'New': 0.0011248593925759281, 'York,': 0.0011248593925759281, 'January': 0.0011248593925759281, '2,': 0.0011248593925759281, '1920I': 0.0011248593925759281, 'knew': 0.0011248593925759281, 'what’s': 0.0011248593925759281, 'coming': 0.0011248593925759281, 'whole': 0.0011248593925759281, 'still': 0.0044994375703037125, 'completely': 0.0011248593925759281, 'floored': 0.0011248593925759281, 'mean': 0.0011248593925759281, 'earth': 0.0011248593925759281, 'ellecom/life-love/a35021224…I': 0.0011248593925759281, 'wonder': 0.0011248593925759281, 'parents': 0.0011248593925759281, 'bed': 0.0011248593925759281, 'bath': 0.0011248593925759281, 'beyond': 0.0011248593925759281, 'coupon': 0.0011248593925759281, 'drawer': 0.0011248593925759281, 'nytimescom/2020/12/19/busin…I': 0.0011248593925759281, 'fortunate': 0.0011248593925759281, 'make': 0.0044994375703037125, 'portrait': 0.0011248593925759281, 'Alan': 0.0011248593925759281, 'Dean': 0.0011248593925759281, 'Foster': 0.0011248593925759281, 'hear': 0.0011248593925759281, 'adventures': 0.0011248593925759281, 'dispute': 0.0011248593925759281, 'Disney': 0.0011248593925759281, 'signaled': 0.0011248593925759281, 'didn’t': 0.0011248593925759281, 'intend': 0.0011248593925759281, 'honor': 0.0011248593925759281, 'long-negotiated': 0.0011248593925759281, 'contracts': 0.0011248593925759281, 'His': 0.0011248593925759281, 'union': 0.0011248593925759281, '@sfwa': 0.0011248593925759281, 'also': 0.0011248593925759281, 'repping': 0.0011248593925759281, 'authors': 0.0011248593925759281, 'whose': 0.0011248593925759281, 'work': 0.0011248593925759281, 'acquired': 0.0011248593925759281, 'Disneyplease': 0.0011248593925759281, 'enjoy': 0.0011248593925759281, 'Vine': 0.0011248593925759281, 'esteemed': 0.0011248593925759281, 'Deputy': 0.0011248593925759281, 'PM': 0.0011248593925759281, 'Barnaby': 0.0011248593925759281, 'Joyce': 0.0011248593925759281, 'literally': 0.0011248593925759281, 'yelling': 0.0011248593925759281, '\"CARP\"': 0.0011248593925759281, '#QT': 0.0011248593925759281, 'today': 0.0011248593925759281, 'vineco/v/ixmbFeYrVqMThis': 0.0011248593925759281, 'would': 0.003374578177727784, 'scream,': 0.0011248593925759281, 'except': 0.0011248593925759281, 'I’m': 0.0011248593925759281, 'post': 0.0011248593925759281, 'covid': 0.0011248593925759281, 'chest': 0.0011248593925759281, 'hurt': 0.0011248593925759281, 'bad': 0.0011248593925759281, 'I’d': 0.0011248593925759281, 'lay': 0.0011248593925759281, 'day!': 0.0011248593925759281, 'Covid': 0.0011248593925759281, 'isn’t': 0.003374578177727784, 'sniffles,': 0.0011248593925759281, 'it’s': 0.0011248593925759281, 'destructive': 0.0011248593925759281, 'force': 0.0011248593925759281, 'set': 0.0011248593925759281, 'ruin': 0.0011248593925759281, 'otherwise': 0.0011248593925759281, 'healthy': 0.0011248593925759281, 'body': 0.0011248593925759281, 'taking': 0.0011248593925759281, 'fucking': 0.0011248593925759281, 'risk': 0.0011248593925759281, 'worth': 0.0011248593925759281, 'itWe': 0.0011248593925759281, 'appreciate': 0.0011248593925759281, 'need': 0.0011248593925759281, 'reading': 0.0011248593925759281, 'different': 0.0011248593925759281, 'perspectives,': 0.0011248593925759281, \"we're\": 0.0011248593925759281, 'embarrassed': 0.0011248593925759281, '@wsjopinion': 0.0011248593925759281, 'op-ed': 0.0011248593925759281, 'weekend': 0.0011248593925759281, 'stooped': 0.0011248593925759281, 'patronizing': 0.0011248593925759281, 'denigrating': 0.0011248593925759281, '--': 0.0022497187851518562, 'many': 0.0044994375703037125, \"doctors'\": 0.0011248593925759281, 'accomplishments': 0.0011248593925759281, '2/2There': 0.0011248593925759281, 'thick': 0.0011248593925759281, 'wall': 0.0011248593925759281, 'opinion': 0.0011248593925759281, 'operations': 0.0011248593925759281, '@WSJ,': 0.0011248593925759281, 'saddens': 0.0011248593925759281, \"they'd\": 0.0011248593925759281, 'print': 0.0011248593925759281, 'Which': 0.0011248593925759281, 'way': 0.0011248593925759281, \"I've\": 0.0011248593925759281, 'felt': 0.0011248593925759281, 'op-eds': 0.0011248593925759281, 'Pieces': 0.0011248593925759281, 'like': 0.00562429696287964, 'harder': 0.0011248593925759281, '2/2Use': 0.0011248593925759281, 'daily': 0.0011248593925759281, 'cry': 0.0011248593925759281, 'something': 0.0011248593925759281, 'beautiful': 0.0011248593925759281, 'adorable': 0.0011248593925759281, 'instead': 0.0011248593925759281, 'sadness': 0.0011248593925759281, 'dread': 0.0011248593925759281, 'once,': 0.0011248593925759281, 'this!': 0.0011248593925759281, '❤️❤️❤️many': 0.0011248593925759281, 'days': 0.0011248593925759281, 'guilty': 0.0011248593925759281, 'sufficiently': 0.0011248593925759281, 'compartmentalize': 0.0011248593925759281, 'mass': 0.0011248593925759281, 'death': 0.0011248593925759281, 'rising': 0.0011248593925759281, 'number': 0.0011248593925759281, 'cases': 0.0022497187851518562, 'enough': 0.0022497187851518562, 'productiveI': 0.0011248593925759281, 'use': 0.0011248593925759281, 'AppleTV+': 0.0011248593925759281, 'seen': 0.0011248593925759281, 'amazing': 0.0011248593925759281, 'show': 0.0011248593925759281, 'Ted': 0.0022497187851518562, 'Lasso': 0.0022497187851518562, 'Tom': 0.003374578177727784, 'Allen': 0.003374578177727784, 'IS': 0.0011248593925759281, 'video': 0.0022497187851518562, 'charming': 0.0011248593925759281, 'hellMore': 0.0011248593925759281, 'wonderful': 0.0011248593925759281, 'stories:': 0.0011248593925759281, 'wsjcom/articles/indiana-is-…“Two': 0.0011248593925759281, 'four': 0.0011248593925759281, 'patients': 0.0011248593925759281, 'scheduled': 0.0011248593925759281, 'speak': 0.0011248593925759281, 'meeting': 0.0011248593925759281, 'unable': 0.0011248593925759281, 'recently': 0.0011248593925759281, 'hospitalized”': 0.0011248593925759281, 'nytimescom/2020/12/04/healt…Give': 0.0011248593925759281, 'vaccine': 0.0011248593925759281, 'pleaseHalf': 0.0011248593925759281, 'shoppers': 0.0022497187851518562, 'went': 0.0011248593925759281, 'Friday,': 0.0011248593925759281, 'online': 0.0011248593925759281, 'sales': 0.0011248593925759281, 'rose': 0.0011248593925759281, '22%': 0.0011248593925759281, 'last': 0.0022497187851518562, 'We': 0.0022497187851518562, 'spoke': 0.0022497187851518562, 'Westport,': 0.0011248593925759281, 'Conn,': 0.0011248593925759281, 'Miami:': 0.0011248593925759281, 'wsjcom/story/black-friday-s…🎵The': 0.0011248593925759281, 'you’re': 0.0011248593925759281, 'it🎶': 0.0011248593925759281, 'Lol': 0.0011248593925759281, 'hate': 0.0011248593925759281, 'nytimescom/2020/11/29/nyreg…ON': 0.0011248593925759281, 'THE': 0.0011248593925759281, 'MOVE:': 0.0011248593925759281, 'Yesterday,': 0.0011248593925759281, 'mobility': 0.0011248593925759281, 'average': 0.0011248593925759281, 'county': 0.0011248593925759281, '6%': 0.0011248593925759281, 'higher': 0.0011248593925759281, 'Tuesday': 0.0011248593925759281, 'week,': 0.0011248593925759281, 'according': 0.0011248593925759281, 'activity': 0.0011248593925759281, 'index': 0.0011248593925759281, 'Mapbox': 0.0011248593925759281, 'calculates': 0.0011248593925759281, 'using': 0.0011248593925759281, 'anonymous': 0.0011248593925759281, 'data': 0.0011248593925759281, 'cell': 0.0011248593925759281, 'phones': 0.0011248593925759281, 'wsjcom/graphics/covid-19-pa…': 0.0011248593925759281, 'via': 0.0011248593925759281, '@WSJGraphicsWhat': 0.0011248593925759281, 'Thanksgiving': 0.0011248593925759281, 'travel': 0.0011248593925759281, 'year?': 0.0011248593925759281, 'numbers': 0.0011248593925759281, 'folks': 0.0011248593925759281, 'road': 0.0011248593925759281, 'airport': 0.0011248593925759281, 'Amazing': 0.0011248593925759281, 'teamwork': 0.0011248593925759281, '@sestamm': 0.0011248593925759281, '@JoelEastwood': 0.0011248593925759281, '@alyrose': 0.0011248593925759281, '@mcgint': 0.0011248593925759281, '@ashponders': 0.0011248593925759281, '@tayloremrey': 0.0011248593925759281, 'wsjcom/graphics/covid-19-pa…“In': 0.0011248593925759281, 'several': 0.0011248593925759281, 'pandemic,': 0.0011248593925759281, 'Ms': 0.0011248593925759281, 'Naka': 0.0011248593925759281, 'said,': 0.0011248593925759281, 'investigators': 0.0011248593925759281, 'realized': 0.0011248593925759281, 'next': 0.0011248593925759281, 'kin': 0.0011248593925759281, 'weren’t': 0.0011248593925759281, 'answering': 0.0011248593925759281, 'phone': 0.0011248593925759281, 'died”': 0.0011248593925759281, 'Fuck': 0.0011248593925759281, 'wsjcom/articles/nyc-dead-st…Oh': 0.0011248593925759281, 'wow': 0.0011248593925759281, 'want': 0.0011248593925759281, 'insane': 0.0011248593925759281, 'stories': 0.0011248593925759281, 'ASAP': 0.0011248593925759281, 'please!!!!!Awesome': 0.0011248593925759281, 'scoop': 0.0011248593925759281, '+': 0.0011248593925759281, 'great': 0.0011248593925759281, 'photos': 0.0011248593925759281, '@bridgetkbennett!!!!“Lol,': 0.0011248593925759281, 'no,”': 0.0011248593925759281, 'tweets': 0.0011248593925759281, 'tie-due': 0.0011248593925759281, 'sweatsuit,': 0.0011248593925759281, 'sitting': 0.0011248593925759281, 'couch': 0.0011248593925759281, 'permanently': 0.0011248593925759281, 'second': 0.0011248593925759281, 'comforter': 0.0011248593925759281, 'wsjcom/articles/goodbye-tie…I': 0.0011248593925759281, 'stand': 0.0011248593925759281, 'typos,': 0.0011248593925759281, 'dressing': 0.0011248593925759281, 'nicer': 0.0011248593925759281, 'solve': 0.0011248593925759281, 'thisA': 0.0011248593925759281, 'NINETY': 0.0011248593925759281, 'PERCENT': 0.0011248593925759281, 'increase': 0.0011248593925759281, 'NINETYJoin': 0.0011248593925759281, 'wsj': 0.0011248593925759281, 'biz': 0.0011248593925759281, 'team,': 0.0011248593925759281, 'stickers': 0.0011248593925759281, 'share': 0.0011248593925759281, 'pictures': 0.0011248593925759281, 'catsI': 0.0011248593925759281, 'think': 0.0011248593925759281, 'day,': 0.0011248593925759281, 'lives': 0.0011248593925759281, 'rent-free': 0.0011248593925759281, 'brain': 0.0011248593925759281, 'forever': 0.0011248593925759281}\n"
          ],
          "name": "stdout"
        }
      ]
    },
    {
      "cell_type": "code",
      "metadata": {
        "id": "283RXC24ltnk"
      },
      "source": [
        "def check_sent(word, sentences): \r\n",
        "    final = [all([w in x for w in word]) for x in sentences] \r\n",
        "    sent_len = [sentences[i] for i in range(0, len(final)) if final[i]]\r\n",
        "    return int(len(sent_len))"
      ],
      "execution_count": 101,
      "outputs": []
    },
    {
      "cell_type": "code",
      "metadata": {
        "colab": {
          "base_uri": "https://localhost:8080/"
        },
        "id": "jv9A-Xnih5hK",
        "outputId": "2cc04521-067f-44f6-9727-1789f89810ae"
      },
      "source": [
        "idf_score = {}\r\n",
        "for each_word in total_words:\r\n",
        "    each_word = each_word.replace('.','')\r\n",
        "    if each_word not in stop_words:\r\n",
        "        if each_word in idf_score:\r\n",
        "            idf_score[each_word] = check_sent(each_word, total_sentences)\r\n",
        "        else:\r\n",
        "            idf_score[each_word] = 1\r\n",
        "\r\n",
        "# Performing a log and divide\r\n",
        "idf_score.update((x, math.log(int(total_sent_len)/y)) for x, y in idf_score.items())\r\n",
        "\r\n",
        "print(idf_score)"
      ],
      "execution_count": 102,
      "outputs": [
        {
          "output_type": "stream",
          "text": [
            "{'“If': 3.4339872044851463, 'one': 0.03278982282299097, 'thing': 3.4339872044851463, 'mind,': 3.4339872044851463, 'go': 0.29849298855599654, 'store': 3.4339872044851463, 'get': 0.29849298855599654, 'in-and-out': 3.4339872044851463, 'fast': 3.4339872044851463, 'can\"': 3.4339872044851463, 'Shoppers': 3.4339872044851463, 'head': 3.4339872044851463, 'stores': 0.0, 'Black': 3.4339872044851463, 'Friday': 3.4339872044851463, 'safety': 3.4339872044851463, 'mind:': 3.4339872044851463, 'wsjcom/story/black-friday-s…Great': 3.4339872044851463, 'story': 3.4339872044851463, 'Bob': 3.4339872044851463, 'strong': 3.4339872044851463, 'photography': 3.4339872044851463, '@NOLIS!': 3.4339872044851463, 'Check': 3.4339872044851463, 'out!Much': 3.4339872044851463, 'love': 3.4339872044851463, 'BMW': 3.4339872044851463, 'parked': 3.4339872044851463, 'blocking': 3.4339872044851463, 'garage': 0.29849298855599654, 'entrance': 3.4339872044851463, 'snooty': 3.4339872044851463, 'new': 3.4339872044851463, 'building': 3.4339872044851463, 'across': 3.4339872044851463, 'street': 3.4339872044851463, 'The': 3.4339872044851463, 'car': 3.4339872044851463, 'stuck': 3.4339872044851463, 'honking': 3.4339872044851463, 'two': 3.4339872044851463, 'hours': 3.4339872044851463, 'annoying,': 3.4339872044851463, 'hilarious': 3.4339872044851463, 'I': 0.661398482245365, 'fueled': 3.4339872044851463, 'this✨New': 3.4339872044851463, 'York': 3.4339872044851463, 'healing✨Does': 3.4339872044851463, 'everyone': 0.4895482253187058, 'website': 3.4339872044851463, 'know': 3.4339872044851463, 'buy': 3.4339872044851463, 'milkshake': 3.4339872044851463, 'machine': 3.4339872044851463, '$100?': 3.4339872044851463, 'If': 3.4339872044851463, 'stop': 0.13815033848081718, 'spending': 3.4339872044851463, 'time': 0.06669137449867214, 'find': 3.4339872044851463, 'best': 0.1758906664636642, 'stuff': 3.4339872044851463, 'webstaurantstorecom/galaxy-…Lot': 3.4339872044851463, 'people': 0.1758906664636642, 'bemoaning': 3.4339872044851463, 'successful': 3.4339872044851463, 'Jon': 3.4339872044851463, 'Ossoff': 3.4339872044851463, 'young': 0.5436154465889816, 'age,': 3.4339872044851463, '-': 3.4339872044851463, \"he's\": 3.4339872044851463, 'nearly': 3.4339872044851463, '34!Last': 3.4339872044851463, 'year': 0.10178269430994238, 'news': 0.2151113796169455, 'years': 0.10178269430994238, 'resolution': 3.4339872044851463, 'see': 3.4339872044851463, 'friends': 0.2559333741372007, 'weekends': 3.4339872044851463, 'gym': 3.4339872044851463, '(lol!)': 3.4339872044851463, 'year,': 3.4339872044851463, 'resolutions!Instead': 3.4339872044851463, 'celebrate': 3.4339872044851463, 'much': 3.4339872044851463, 'grew': 3.4339872044851463, 'constantly': 3.4339872044851463, 'advocated': 3.4339872044851463, 'health': 3.4339872044851463, 'pushed': 3.4339872044851463, 'doctors': 3.4339872044851463, 'understand': 3.4339872044851463, 'found': 3.4339872044851463, 'could': 3.4339872044851463, 'diagnose': 3.4339872044851463, 'start': 3.4339872044851463, 'treating': 3.4339872044851463, 'That': 3.4339872044851463, 'took': 0.3429447511268304, '9': 1.3545456628053103, 'months': 0.10178269430994238, 'I’ve': 3.4339872044851463, 'never': 3.4339872044851463, 'proud': 3.4339872044851463, 'myself!Wow': 3.4339872044851463, '@MaraGay': 3.4339872044851463, 'words': 3.4339872044851463, 'ones': 3.4339872044851463, 'read': 0.03278982282299097, 'today,': 3.4339872044851463, 'exactly': 1.6422277352570913, 'feel': 0.2559333741372007, '✨Grateful': 3.4339872044851463, '@mkeierleber,': 3.4339872044851463, 'family': 0.3429447511268304, 'colleagues': 3.4339872044851463, '@MountSinaiNYC': 3.4339872044851463, 'post-covid': 3.4339872044851463, 'program': 3.4339872044851463, 'year✨': 3.4339872044851463, 'nytimescom/2020/12/31/opini…\"A': 3.4339872044851463, 'lot': 3.4339872044851463, 'regulars': 3.4339872044851463, 'aren’t': 3.4339872044851463, 'here\"': 3.4339872044851463, 'A': 3.4339872044851463, 'look': 0.3894647667617233, 'downtown': 3.4339872044851463, 'businesses': 3.4339872044851463, 'neighborhood': 3.4339872044851463, 'adjusted': 3.4339872044851463, 'survive': 3.4339872044851463, 'mostly': 3.4339872044851463, 'vacant': 3.4339872044851463, 'streets': 3.4339872044851463, 'offices': 3.4339872044851463, 'wsjcom/graphics/boston-busi…Maria': 3.4339872044851463, 'Patton': 3.4339872044851463, 'lost': 3.4339872044851463, 'job': 0.8690378470236095, 'March': 3.4339872044851463, 'Hoping': 3.4339872044851463, 'catch': 3.4339872044851463, 'break': 3.4339872044851463, 'home': 0.06669137449867214, 'state': 3.4339872044851463, 'Tennessee,': 3.4339872044851463, 'returned': 3.4339872044851463, '18-year-old': 3.4339872044851463, 'son': 3.4339872044851463, 'Asperger': 3.4339872044851463, 'syndrome': 3.4339872044851463, '@WSJ': 3.4339872044851463, 'readers': 3.4339872044851463, 'raised': 3.4339872044851463, '$17,000': 3.4339872044851463, 'since': 3.4339872044851463, 'published': 0.4382549309311553, 'wsjcom/articles/covid-19-de…Photographer': 3.4339872044851463, 'Maryam': 3.4339872044851463, 'Rahmanian': 3.4339872044851463, 'followed': 3.4339872044851463, 'life': 3.4339872044851463, 'Mahnaz': 3.4339872044851463, 'Parhizkari,': 3.4339872044851463, 'working': 3.4339872044851463, 'single': 3.4339872044851463, 'mother': 3.4339872044851463, 'Tehran': 3.4339872044851463, 'As': 3.4339872044851463, 'US': 2.740840023925201, 'sanctions': 3.4339872044851463, 'coronavirus': 3.4339872044851463, 'pandemic': 0.29849298855599654, 'ravaged': 3.4339872044851463, 'Iran': 3.4339872044851463, 'economy': 3.4339872044851463, 'struggled': 3.4339872044851463, 'keep': 3.4339872044851463, 'small': 3.4339872044851463, 'together': 3.4339872044851463, 'onwsjcom/3phmJaS': 3.4339872044851463, '@KeadyMargaret': 3.4339872044851463, '@WSJphotosNew-York': 3.4339872044851463, 'Tribune,': 3.4339872044851463, 'New': 3.4339872044851463, 'York,': 3.4339872044851463, 'January': 3.4339872044851463, '2,': 3.4339872044851463, '1920I': 3.4339872044851463, 'knew': 3.4339872044851463, 'what’s': 3.4339872044851463, 'coming': 3.4339872044851463, 'whole': 3.4339872044851463, 'still': 0.06669137449867214, 'completely': 3.4339872044851463, 'floored': 3.4339872044851463, 'mean': 3.4339872044851463, 'earth': 3.4339872044851463, 'ellecom/life-love/a35021224…I': 3.4339872044851463, 'wonder': 3.4339872044851463, 'parents': 3.4339872044851463, 'bed': 3.4339872044851463, 'bath': 3.4339872044851463, 'beyond': 3.4339872044851463, 'coupon': 3.4339872044851463, 'drawer': 3.4339872044851463, 'nytimescom/2020/12/19/busin…I': 3.4339872044851463, 'fortunate': 3.4339872044851463, 'make': 0.3894647667617233, 'portrait': 3.4339872044851463, 'Alan': 3.4339872044851463, 'Dean': 3.4339872044851463, 'Foster': 3.4339872044851463, 'hear': 3.4339872044851463, 'adventures': 3.4339872044851463, 'dispute': 3.4339872044851463, 'Disney': 3.4339872044851463, 'signaled': 3.4339872044851463, 'didn’t': 3.4339872044851463, 'intend': 3.4339872044851463, 'honor': 3.4339872044851463, 'long-negotiated': 3.4339872044851463, 'contracts': 3.4339872044851463, 'His': 3.4339872044851463, 'union': 3.4339872044851463, '@sfwa': 3.4339872044851463, 'also': 3.4339872044851463, 'repping': 3.4339872044851463, 'authors': 3.4339872044851463, 'whose': 3.4339872044851463, 'work': 3.4339872044851463, 'acquired': 3.4339872044851463, 'Disneyplease': 3.4339872044851463, 'enjoy': 3.4339872044851463, 'Vine': 3.4339872044851463, 'esteemed': 3.4339872044851463, 'Deputy': 3.4339872044851463, 'PM': 3.4339872044851463, 'Barnaby': 3.4339872044851463, 'Joyce': 3.4339872044851463, 'literally': 3.4339872044851463, 'yelling': 3.4339872044851463, '\"CARP\"': 3.4339872044851463, '#QT': 3.4339872044851463, 'today': 3.4339872044851463, 'vineco/v/ixmbFeYrVqMThis': 3.4339872044851463, 'would': 0.4895482253187058, 'scream,': 3.4339872044851463, 'except': 3.4339872044851463, 'I’m': 3.4339872044851463, 'post': 3.4339872044851463, 'covid': 3.4339872044851463, 'chest': 3.4339872044851463, 'hurt': 3.4339872044851463, 'bad': 3.4339872044851463, 'I’d': 3.4339872044851463, 'lay': 3.4339872044851463, 'day!': 3.4339872044851463, 'Covid': 3.4339872044851463, 'isn’t': 1.3545456628053103, 'sniffles,': 3.4339872044851463, 'it’s': 3.4339872044851463, 'destructive': 3.4339872044851463, 'force': 3.4339872044851463, 'set': 3.4339872044851463, 'ruin': 3.4339872044851463, 'otherwise': 3.4339872044851463, 'healthy': 3.4339872044851463, 'body': 3.4339872044851463, 'taking': 3.4339872044851463, 'fucking': 3.4339872044851463, 'risk': 3.4339872044851463, 'worth': 3.4339872044851463, 'itWe': 3.4339872044851463, 'appreciate': 3.4339872044851463, 'need': 3.4339872044851463, 'reading': 3.4339872044851463, 'different': 3.4339872044851463, 'perspectives,': 3.4339872044851463, \"we're\": 3.4339872044851463, 'embarrassed': 3.4339872044851463, '@wsjopinion': 3.4339872044851463, 'op-ed': 3.4339872044851463, 'weekend': 3.4339872044851463, 'stooped': 3.4339872044851463, 'patronizing': 3.4339872044851463, 'denigrating': 3.4339872044851463, '--': 0.4895482253187058, 'many': 0.1758906664636642, \"doctors'\": 3.4339872044851463, 'accomplishments': 3.4339872044851463, '2/2There': 3.4339872044851463, 'thick': 3.4339872044851463, 'wall': 3.4339872044851463, 'opinion': 3.4339872044851463, 'operations': 3.4339872044851463, '@WSJ,': 3.4339872044851463, 'saddens': 3.4339872044851463, \"they'd\": 3.4339872044851463, 'print': 3.4339872044851463, 'Which': 3.4339872044851463, 'way': 3.4339872044851463, \"I've\": 3.4339872044851463, 'felt': 3.4339872044851463, 'op-eds': 3.4339872044851463, 'Pieces': 3.4339872044851463, 'like': 0.3894647667617233, 'harder': 3.4339872044851463, '2/2Use': 3.4339872044851463, 'daily': 3.4339872044851463, 'cry': 3.4339872044851463, 'something': 3.4339872044851463, 'beautiful': 3.4339872044851463, 'adorable': 3.4339872044851463, 'instead': 3.4339872044851463, 'sadness': 3.4339872044851463, 'dread': 3.4339872044851463, 'once,': 3.4339872044851463, 'this!': 3.4339872044851463, '❤️❤️❤️many': 3.4339872044851463, 'days': 3.4339872044851463, 'guilty': 3.4339872044851463, 'sufficiently': 3.4339872044851463, 'compartmentalize': 3.4339872044851463, 'mass': 3.4339872044851463, 'death': 3.4339872044851463, 'rising': 3.4339872044851463, 'number': 3.4339872044851463, 'cases': 0.03278982282299097, 'enough': 0.4895482253187058, 'productiveI': 3.4339872044851463, 'use': 3.4339872044851463, 'AppleTV+': 3.4339872044851463, 'seen': 3.4339872044851463, 'amazing': 3.4339872044851463, 'show': 3.4339872044851463, 'Ted': 0.8690378470236095, 'Lasso': 1.824549292051046, 'Tom': 0.8690378470236095, 'Allen': 1.1314021114911006, 'IS': 3.4339872044851463, 'video': 0.4382549309311553, 'charming': 3.4339872044851463, 'hellMore': 3.4339872044851463, 'wonderful': 3.4339872044851463, 'stories:': 3.4339872044851463, 'wsjcom/articles/indiana-is-…“Two': 3.4339872044851463, 'four': 3.4339872044851463, 'patients': 3.4339872044851463, 'scheduled': 3.4339872044851463, 'speak': 3.4339872044851463, 'meeting': 3.4339872044851463, 'unable': 3.4339872044851463, 'recently': 3.4339872044851463, 'hospitalized”': 3.4339872044851463, 'nytimescom/2020/12/04/healt…Give': 3.4339872044851463, 'vaccine': 3.4339872044851463, 'pleaseHalf': 3.4339872044851463, 'shoppers': 0.13815033848081718, 'went': 3.4339872044851463, 'Friday,': 3.4339872044851463, 'online': 3.4339872044851463, 'sales': 3.4339872044851463, 'rose': 3.4339872044851463, '22%': 3.4339872044851463, 'last': 0.06669137449867214, 'We': 1.1314021114911006, 'spoke': 0.4895482253187058, 'Westport,': 3.4339872044851463, 'Conn,': 3.4339872044851463, 'Miami:': 3.4339872044851463, 'wsjcom/story/black-friday-s…🎵The': 3.4339872044851463, 'you’re': 3.4339872044851463, 'it🎶': 3.4339872044851463, 'Lol': 3.4339872044851463, 'hate': 3.4339872044851463, 'nytimescom/2020/11/29/nyreg…ON': 3.4339872044851463, 'THE': 3.4339872044851463, 'MOVE:': 3.4339872044851463, 'Yesterday,': 3.4339872044851463, 'mobility': 3.4339872044851463, 'average': 3.4339872044851463, 'county': 3.4339872044851463, '6%': 3.4339872044851463, 'higher': 3.4339872044851463, 'Tuesday': 3.4339872044851463, 'week,': 3.4339872044851463, 'according': 3.4339872044851463, 'activity': 3.4339872044851463, 'index': 3.4339872044851463, 'Mapbox': 3.4339872044851463, 'calculates': 3.4339872044851463, 'using': 3.4339872044851463, 'anonymous': 3.4339872044851463, 'data': 3.4339872044851463, 'cell': 3.4339872044851463, 'phones': 3.4339872044851463, 'wsjcom/graphics/covid-19-pa…': 3.4339872044851463, 'via': 3.4339872044851463, '@WSJGraphicsWhat': 3.4339872044851463, 'Thanksgiving': 3.4339872044851463, 'travel': 3.4339872044851463, 'year?': 3.4339872044851463, 'numbers': 3.4339872044851463, 'folks': 3.4339872044851463, 'road': 3.4339872044851463, 'airport': 3.4339872044851463, 'Amazing': 3.4339872044851463, 'teamwork': 3.4339872044851463, '@sestamm': 3.4339872044851463, '@JoelEastwood': 3.4339872044851463, '@alyrose': 3.4339872044851463, '@mcgint': 3.4339872044851463, '@ashponders': 3.4339872044851463, '@tayloremrey': 3.4339872044851463, 'wsjcom/graphics/covid-19-pa…“In': 3.4339872044851463, 'several': 3.4339872044851463, 'pandemic,': 3.4339872044851463, 'Ms': 3.4339872044851463, 'Naka': 3.4339872044851463, 'said,': 3.4339872044851463, 'investigators': 3.4339872044851463, 'realized': 3.4339872044851463, 'next': 3.4339872044851463, 'kin': 3.4339872044851463, 'weren’t': 3.4339872044851463, 'answering': 3.4339872044851463, 'phone': 3.4339872044851463, 'died”': 3.4339872044851463, 'Fuck': 3.4339872044851463, 'wsjcom/articles/nyc-dead-st…Oh': 3.4339872044851463, 'wow': 3.4339872044851463, 'want': 3.4339872044851463, 'insane': 3.4339872044851463, 'stories': 3.4339872044851463, 'ASAP': 3.4339872044851463, 'please!!!!!Awesome': 3.4339872044851463, 'scoop': 3.4339872044851463, '+': 3.4339872044851463, 'great': 3.4339872044851463, 'photos': 3.4339872044851463, '@bridgetkbennett!!!!“Lol,': 3.4339872044851463, 'no,”': 3.4339872044851463, 'tweets': 3.4339872044851463, 'tie-due': 3.4339872044851463, 'sweatsuit,': 3.4339872044851463, 'sitting': 3.4339872044851463, 'couch': 3.4339872044851463, 'permanently': 3.4339872044851463, 'second': 3.4339872044851463, 'comforter': 3.4339872044851463, 'wsjcom/articles/goodbye-tie…I': 3.4339872044851463, 'stand': 3.4339872044851463, 'typos,': 3.4339872044851463, 'dressing': 3.4339872044851463, 'nicer': 3.4339872044851463, 'solve': 3.4339872044851463, 'thisA': 3.4339872044851463, 'NINETY': 3.4339872044851463, 'PERCENT': 3.4339872044851463, 'increase': 3.4339872044851463, 'NINETYJoin': 3.4339872044851463, 'wsj': 3.4339872044851463, 'biz': 3.4339872044851463, 'team,': 3.4339872044851463, 'stickers': 3.4339872044851463, 'share': 3.4339872044851463, 'pictures': 3.4339872044851463, 'catsI': 3.4339872044851463, 'think': 3.4339872044851463, 'day,': 3.4339872044851463, 'lives': 3.4339872044851463, 'rent-free': 3.4339872044851463, 'brain': 3.4339872044851463, 'forever': 3.4339872044851463}\n"
          ],
          "name": "stdout"
        }
      ]
    },
    {
      "cell_type": "code",
      "metadata": {
        "colab": {
          "base_uri": "https://localhost:8080/"
        },
        "id": "63TIQnhF_ZNv",
        "outputId": "36eef488-62da-4c68-853e-ade7b657234b"
      },
      "source": [
        "tf_idf_score = {key: tf_score[key] * idf_score.get(key, 0) for key in tf_score.keys()}\r\n",
        "print(tf_idf_score)"
      ],
      "execution_count": 103,
      "outputs": [
        {
          "output_type": "stream",
          "text": [
            "{'“If': 0.003862752760950671, 'one': 0.0001475357607333677, 'thing': 0.003862752760950671, 'mind,': 0.003862752760950671, 'go': 0.0006715252835905435, 'store': 0.003862752760950671, 'get': 0.0006715252835905435, 'in-and-out': 0.003862752760950671, 'fast': 0.003862752760950671, 'can\"': 0.003862752760950671, 'Shoppers': 0.003862752760950671, 'head': 0.003862752760950671, 'stores': 0.0, 'Black': 0.003862752760950671, 'Friday': 0.003862752760950671, 'safety': 0.003862752760950671, 'mind:': 0.003862752760950671, 'wsjcom/story/black-friday-s…Great': 0.003862752760950671, 'story': 0.003862752760950671, 'Bob': 0.003862752760950671, 'strong': 0.003862752760950671, 'photography': 0.003862752760950671, '@NOLIS!': 0.003862752760950671, 'Check': 0.003862752760950671, 'out!Much': 0.003862752760950671, 'love': 0.003862752760950671, 'BMW': 0.003862752760950671, 'parked': 0.003862752760950671, 'blocking': 0.003862752760950671, 'garage': 0.0006715252835905435, 'entrance': 0.003862752760950671, 'snooty': 0.003862752760950671, 'new': 0.003862752760950671, 'building': 0.003862752760950671, 'across': 0.003862752760950671, 'street': 0.003862752760950671, 'The': 0.003862752760950671, 'car': 0.003862752760950671, 'stuck': 0.003862752760950671, 'honking': 0.003862752760950671, 'two': 0.003862752760950671, 'hours': 0.003862752760950671, 'annoying,': 0.003862752760950671, 'hilarious': 0.003862752760950671, 'I': 0.010415724129848267, 'fueled': 0.003862752760950671, 'this✨New': 0.003862752760950671, 'York': 0.003862752760950671, 'healing✨Does': 0.003862752760950671, 'everyone': 0.001101345838737246, 'website': 0.003862752760950671, 'know': 0.003862752760950671, 'buy': 0.003862752760950671, 'milkshake': 0.003862752760950671, 'machine': 0.003862752760950671, '$100?': 0.003862752760950671, 'If': 0.003862752760950671, 'stop': 0.00031079941165538177, 'spending': 0.003862752760950671, 'time': 0.00015003683801726017, 'find': 0.003862752760950671, 'best': 0.00039570453647618496, 'stuff': 0.003862752760950671, 'webstaurantstorecom/galaxy-…Lot': 0.003862752760950671, 'people': 0.00039570453647618496, 'bemoaning': 0.003862752760950671, 'successful': 0.003862752760950671, 'Jon': 0.003862752760950671, 'Ossoff': 0.003862752760950671, 'young': 0.0012229818820899475, 'age,': 0.003862752760950671, '-': 0.003862752760950671, \"he's\": 0.003862752760950671, 'nearly': 0.003862752760950671, '34!Last': 0.003862752760950671, 'year': 0.00045796487878489267, 'news': 0.00048394011162417435, 'years': 0.00022898243939244633, 'resolution': 0.003862752760950671, 'see': 0.003862752760950671, 'friends': 0.0005757781195437587, 'weekends': 0.003862752760950671, 'gym': 0.003862752760950671, '(lol!)': 0.003862752760950671, 'year,': 0.003862752760950671, 'resolutions!Instead': 0.003862752760950671, 'celebrate': 0.003862752760950671, 'much': 0.003862752760950671, 'grew': 0.003862752760950671, 'constantly': 0.003862752760950671, 'advocated': 0.003862752760950671, 'health': 0.003862752760950671, 'pushed': 0.003862752760950671, 'doctors': 0.003862752760950671, 'understand': 0.003862752760950671, 'found': 0.003862752760950671, 'could': 0.003862752760950671, 'diagnose': 0.003862752760950671, 'start': 0.003862752760950671, 'treating': 0.003862752760950671, 'That': 0.003862752760950671, 'took': 0.0007715292488792586, '9': 0.0030473468229590787, 'months': 0.00022898243939244633, 'I’ve': 0.003862752760950671, 'never': 0.003862752760950671, 'proud': 0.003862752760950671, 'myself!Wow': 0.003862752760950671, '@MaraGay': 0.003862752760950671, 'words': 0.003862752760950671, 'ones': 0.003862752760950671, 'read': 7.376788036668385e-05, 'today,': 0.003862752760950671, 'exactly': 0.0036945505855052675, 'feel': 0.0008636671793156378, '✨Grateful': 0.003862752760950671, '@mkeierleber,': 0.003862752760950671, 'family': 0.0007715292488792586, 'colleagues': 0.003862752760950671, '@MountSinaiNYC': 0.003862752760950671, 'post-covid': 0.003862752760950671, 'program': 0.003862752760950671, 'year✨': 0.003862752760950671, 'nytimescom/2020/12/31/opini…\"A': 0.003862752760950671, 'lot': 0.003862752760950671, 'regulars': 0.003862752760950671, 'aren’t': 0.003862752760950671, 'here\"': 0.003862752760950671, 'A': 0.003862752760950671, 'look': 0.0013142793029079526, 'downtown': 0.003862752760950671, 'businesses': 0.003862752760950671, 'neighborhood': 0.003862752760950671, 'adjusted': 0.003862752760950671, 'survive': 0.003862752760950671, 'mostly': 0.003862752760950671, 'vacant': 0.003862752760950671, 'streets': 0.003862752760950671, 'offices': 0.003862752760950671, 'wsjcom/graphics/boston-busi…Maria': 0.003862752760950671, 'Patton': 0.003862752760950671, 'lost': 0.003862752760950671, 'job': 0.0019550907694569396, 'March': 0.003862752760950671, 'Hoping': 0.003862752760950671, 'catch': 0.003862752760950671, 'break': 0.003862752760950671, 'home': 0.00015003683801726017, 'state': 0.003862752760950671, 'Tennessee,': 0.003862752760950671, 'returned': 0.003862752760950671, '18-year-old': 0.003862752760950671, 'son': 0.003862752760950671, 'Asperger': 0.003862752760950671, 'syndrome': 0.003862752760950671, '@WSJ': 0.003862752760950671, 'readers': 0.003862752760950671, 'raised': 0.003862752760950671, '$17,000': 0.003862752760950671, 'since': 0.003862752760950671, 'published': 0.0009859503508012494, 'wsjcom/articles/covid-19-de…Photographer': 0.003862752760950671, 'Maryam': 0.003862752760950671, 'Rahmanian': 0.003862752760950671, 'followed': 0.003862752760950671, 'life': 0.003862752760950671, 'Mahnaz': 0.003862752760950671, 'Parhizkari,': 0.003862752760950671, 'working': 0.003862752760950671, 'single': 0.003862752760950671, 'mother': 0.003862752760950671, 'Tehran': 0.003862752760950671, 'As': 0.003862752760950671, 'US': 0.006166119288920587, 'sanctions': 0.003862752760950671, 'coronavirus': 0.003862752760950671, 'pandemic': 0.0006715252835905435, 'ravaged': 0.003862752760950671, 'Iran': 0.003862752760950671, 'economy': 0.003862752760950671, 'struggled': 0.003862752760950671, 'keep': 0.003862752760950671, 'small': 0.003862752760950671, 'together': 0.003862752760950671, 'onwsjcom/3phmJaS': 0.003862752760950671, '@KeadyMargaret': 0.003862752760950671, '@WSJphotosNew-York': 0.003862752760950671, 'Tribune,': 0.003862752760950671, 'New': 0.003862752760950671, 'York,': 0.003862752760950671, 'January': 0.003862752760950671, '2,': 0.003862752760950671, '1920I': 0.003862752760950671, 'knew': 0.003862752760950671, 'what’s': 0.003862752760950671, 'coming': 0.003862752760950671, 'whole': 0.003862752760950671, 'still': 0.00030007367603452034, 'completely': 0.003862752760950671, 'floored': 0.003862752760950671, 'mean': 0.003862752760950671, 'earth': 0.003862752760950671, 'ellecom/life-love/a35021224…I': 0.003862752760950671, 'wonder': 0.003862752760950671, 'parents': 0.003862752760950671, 'bed': 0.003862752760950671, 'bath': 0.003862752760950671, 'beyond': 0.003862752760950671, 'coupon': 0.003862752760950671, 'drawer': 0.003862752760950671, 'nytimescom/2020/12/19/busin…I': 0.003862752760950671, 'fortunate': 0.003862752760950671, 'make': 0.0017523724038772705, 'portrait': 0.003862752760950671, 'Alan': 0.003862752760950671, 'Dean': 0.003862752760950671, 'Foster': 0.003862752760950671, 'hear': 0.003862752760950671, 'adventures': 0.003862752760950671, 'dispute': 0.003862752760950671, 'Disney': 0.003862752760950671, 'signaled': 0.003862752760950671, 'didn’t': 0.003862752760950671, 'intend': 0.003862752760950671, 'honor': 0.003862752760950671, 'long-negotiated': 0.003862752760950671, 'contracts': 0.003862752760950671, 'His': 0.003862752760950671, 'union': 0.003862752760950671, '@sfwa': 0.003862752760950671, 'also': 0.003862752760950671, 'repping': 0.003862752760950671, 'authors': 0.003862752760950671, 'whose': 0.003862752760950671, 'work': 0.003862752760950671, 'acquired': 0.003862752760950671, 'Disneyplease': 0.003862752760950671, 'enjoy': 0.003862752760950671, 'Vine': 0.003862752760950671, 'esteemed': 0.003862752760950671, 'Deputy': 0.003862752760950671, 'PM': 0.003862752760950671, 'Barnaby': 0.003862752760950671, 'Joyce': 0.003862752760950671, 'literally': 0.003862752760950671, 'yelling': 0.003862752760950671, '\"CARP\"': 0.003862752760950671, '#QT': 0.003862752760950671, 'today': 0.003862752760950671, 'vineco/v/ixmbFeYrVqMThis': 0.003862752760950671, 'would': 0.0016520187581058688, 'scream,': 0.003862752760950671, 'except': 0.003862752760950671, 'I’m': 0.003862752760950671, 'post': 0.003862752760950671, 'covid': 0.003862752760950671, 'chest': 0.003862752760950671, 'hurt': 0.003862752760950671, 'bad': 0.003862752760950671, 'I’d': 0.003862752760950671, 'lay': 0.003862752760950671, 'day!': 0.003862752760950671, 'Covid': 0.003862752760950671, 'isn’t': 0.004571020234438617, 'sniffles,': 0.003862752760950671, 'it’s': 0.003862752760950671, 'destructive': 0.003862752760950671, 'force': 0.003862752760950671, 'set': 0.003862752760950671, 'ruin': 0.003862752760950671, 'otherwise': 0.003862752760950671, 'healthy': 0.003862752760950671, 'body': 0.003862752760950671, 'taking': 0.003862752760950671, 'fucking': 0.003862752760950671, 'risk': 0.003862752760950671, 'worth': 0.003862752760950671, 'itWe': 0.003862752760950671, 'appreciate': 0.003862752760950671, 'need': 0.003862752760950671, 'reading': 0.003862752760950671, 'different': 0.003862752760950671, 'perspectives,': 0.003862752760950671, \"we're\": 0.003862752760950671, 'embarrassed': 0.003862752760950671, '@wsjopinion': 0.003862752760950671, 'op-ed': 0.003862752760950671, 'weekend': 0.003862752760950671, 'stooped': 0.003862752760950671, 'patronizing': 0.003862752760950671, 'denigrating': 0.003862752760950671, '--': 0.001101345838737246, 'many': 0.0007914090729523699, \"doctors'\": 0.003862752760950671, 'accomplishments': 0.003862752760950671, '2/2There': 0.003862752760950671, 'thick': 0.003862752760950671, 'wall': 0.003862752760950671, 'opinion': 0.003862752760950671, 'operations': 0.003862752760950671, '@WSJ,': 0.003862752760950671, 'saddens': 0.003862752760950671, \"they'd\": 0.003862752760950671, 'print': 0.003862752760950671, 'Which': 0.003862752760950671, 'way': 0.003862752760950671, \"I've\": 0.003862752760950671, 'felt': 0.003862752760950671, 'op-eds': 0.003862752760950671, 'Pieces': 0.003862752760950671, 'like': 0.0021904655048465877, 'harder': 0.003862752760950671, '2/2Use': 0.003862752760950671, 'daily': 0.003862752760950671, 'cry': 0.003862752760950671, 'something': 0.003862752760950671, 'beautiful': 0.003862752760950671, 'adorable': 0.003862752760950671, 'instead': 0.003862752760950671, 'sadness': 0.003862752760950671, 'dread': 0.003862752760950671, 'once,': 0.003862752760950671, 'this!': 0.003862752760950671, '❤️❤️❤️many': 0.003862752760950671, 'days': 0.003862752760950671, 'guilty': 0.003862752760950671, 'sufficiently': 0.003862752760950671, 'compartmentalize': 0.003862752760950671, 'mass': 0.003862752760950671, 'death': 0.003862752760950671, 'rising': 0.003862752760950671, 'number': 0.003862752760950671, 'cases': 7.376788036668385e-05, 'enough': 0.001101345838737246, 'productiveI': 0.003862752760950671, 'use': 0.003862752760950671, 'AppleTV+': 0.003862752760950671, 'seen': 0.003862752760950671, 'amazing': 0.003862752760950671, 'show': 0.003862752760950671, 'Ted': 0.0019550907694569396, 'Lasso': 0.004104722816762759, 'Tom': 0.002932636154185409, 'Allen': 0.0038180048756730053, 'IS': 0.003862752760950671, 'video': 0.0009859503508012494, 'charming': 0.003862752760950671, 'hellMore': 0.003862752760950671, 'wonderful': 0.003862752760950671, 'stories:': 0.003862752760950671, 'wsjcom/articles/indiana-is-…“Two': 0.003862752760950671, 'four': 0.003862752760950671, 'patients': 0.003862752760950671, 'scheduled': 0.003862752760950671, 'speak': 0.003862752760950671, 'meeting': 0.003862752760950671, 'unable': 0.003862752760950671, 'recently': 0.003862752760950671, 'hospitalized”': 0.003862752760950671, 'nytimescom/2020/12/04/healt…Give': 0.003862752760950671, 'vaccine': 0.003862752760950671, 'pleaseHalf': 0.003862752760950671, 'shoppers': 0.00031079941165538177, 'went': 0.003862752760950671, 'Friday,': 0.003862752760950671, 'online': 0.003862752760950671, 'sales': 0.003862752760950671, 'rose': 0.003862752760950671, '22%': 0.003862752760950671, 'last': 0.00015003683801726017, 'We': 0.0025453365837820037, 'spoke': 0.001101345838737246, 'Westport,': 0.003862752760950671, 'Conn,': 0.003862752760950671, 'Miami:': 0.003862752760950671, 'wsjcom/story/black-friday-s…🎵The': 0.003862752760950671, 'you’re': 0.003862752760950671, 'it🎶': 0.003862752760950671, 'Lol': 0.003862752760950671, 'hate': 0.003862752760950671, 'nytimescom/2020/11/29/nyreg…ON': 0.003862752760950671, 'THE': 0.003862752760950671, 'MOVE:': 0.003862752760950671, 'Yesterday,': 0.003862752760950671, 'mobility': 0.003862752760950671, 'average': 0.003862752760950671, 'county': 0.003862752760950671, '6%': 0.003862752760950671, 'higher': 0.003862752760950671, 'Tuesday': 0.003862752760950671, 'week,': 0.003862752760950671, 'according': 0.003862752760950671, 'activity': 0.003862752760950671, 'index': 0.003862752760950671, 'Mapbox': 0.003862752760950671, 'calculates': 0.003862752760950671, 'using': 0.003862752760950671, 'anonymous': 0.003862752760950671, 'data': 0.003862752760950671, 'cell': 0.003862752760950671, 'phones': 0.003862752760950671, 'wsjcom/graphics/covid-19-pa…': 0.003862752760950671, 'via': 0.003862752760950671, '@WSJGraphicsWhat': 0.003862752760950671, 'Thanksgiving': 0.003862752760950671, 'travel': 0.003862752760950671, 'year?': 0.003862752760950671, 'numbers': 0.003862752760950671, 'folks': 0.003862752760950671, 'road': 0.003862752760950671, 'airport': 0.003862752760950671, 'Amazing': 0.003862752760950671, 'teamwork': 0.003862752760950671, '@sestamm': 0.003862752760950671, '@JoelEastwood': 0.003862752760950671, '@alyrose': 0.003862752760950671, '@mcgint': 0.003862752760950671, '@ashponders': 0.003862752760950671, '@tayloremrey': 0.003862752760950671, 'wsjcom/graphics/covid-19-pa…“In': 0.003862752760950671, 'several': 0.003862752760950671, 'pandemic,': 0.003862752760950671, 'Ms': 0.003862752760950671, 'Naka': 0.003862752760950671, 'said,': 0.003862752760950671, 'investigators': 0.003862752760950671, 'realized': 0.003862752760950671, 'next': 0.003862752760950671, 'kin': 0.003862752760950671, 'weren’t': 0.003862752760950671, 'answering': 0.003862752760950671, 'phone': 0.003862752760950671, 'died”': 0.003862752760950671, 'Fuck': 0.003862752760950671, 'wsjcom/articles/nyc-dead-st…Oh': 0.003862752760950671, 'wow': 0.003862752760950671, 'want': 0.003862752760950671, 'insane': 0.003862752760950671, 'stories': 0.003862752760950671, 'ASAP': 0.003862752760950671, 'please!!!!!Awesome': 0.003862752760950671, 'scoop': 0.003862752760950671, '+': 0.003862752760950671, 'great': 0.003862752760950671, 'photos': 0.003862752760950671, '@bridgetkbennett!!!!“Lol,': 0.003862752760950671, 'no,”': 0.003862752760950671, 'tweets': 0.003862752760950671, 'tie-due': 0.003862752760950671, 'sweatsuit,': 0.003862752760950671, 'sitting': 0.003862752760950671, 'couch': 0.003862752760950671, 'permanently': 0.003862752760950671, 'second': 0.003862752760950671, 'comforter': 0.003862752760950671, 'wsjcom/articles/goodbye-tie…I': 0.003862752760950671, 'stand': 0.003862752760950671, 'typos,': 0.003862752760950671, 'dressing': 0.003862752760950671, 'nicer': 0.003862752760950671, 'solve': 0.003862752760950671, 'thisA': 0.003862752760950671, 'NINETY': 0.003862752760950671, 'PERCENT': 0.003862752760950671, 'increase': 0.003862752760950671, 'NINETYJoin': 0.003862752760950671, 'wsj': 0.003862752760950671, 'biz': 0.003862752760950671, 'team,': 0.003862752760950671, 'stickers': 0.003862752760950671, 'share': 0.003862752760950671, 'pictures': 0.003862752760950671, 'catsI': 0.003862752760950671, 'think': 0.003862752760950671, 'day,': 0.003862752760950671, 'lives': 0.003862752760950671, 'rent-free': 0.003862752760950671, 'brain': 0.003862752760950671, 'forever': 0.003862752760950671}\n"
          ],
          "name": "stdout"
        }
      ]
    },
    {
      "cell_type": "code",
      "metadata": {
        "id": "vBN2Qkwy_dOx"
      },
      "source": [
        "def get_top_n(dict_elem, n):\r\n",
        "    result = dict(sorted(dict_elem.items(), key = itemgetter(1), reverse = True)[:n]) \r\n",
        "    return result"
      ],
      "execution_count": 104,
      "outputs": []
    },
    {
      "cell_type": "code",
      "metadata": {
        "colab": {
          "base_uri": "https://localhost:8080/"
        },
        "id": "9oAfNMZM_uYu",
        "outputId": "09c3d963-4523-4125-c9e0-64161908207b"
      },
      "source": [
        "print(get_top_n(tf_idf_score, 5))"
      ],
      "execution_count": 105,
      "outputs": [
        {
          "output_type": "stream",
          "text": [
            "{'I': 0.010415724129848267, 'US': 0.006166119288920587, 'isn’t': 0.004571020234438617, 'Lasso': 0.004104722816762759, '“If': 0.003862752760950671}\n"
          ],
          "name": "stdout"
        }
      ]
    },
    {
      "cell_type": "code",
      "metadata": {
        "id": "4aFupVWJ_v-1"
      },
      "source": [
        "def get_keywords(doc,n):\r\n",
        "  total_words = doc.split()\r\n",
        "  total_word_length = len(total_words)\r\n",
        "  \r\n",
        "  total_sentences = tokenize.sent_tokenize(doc)\r\n",
        "  total_sent_len = len(total_sentences)\r\n",
        "\r\n",
        "  tf_score = {}\r\n",
        "  for each_word in total_words:\r\n",
        "      each_word = each_word.replace('.','')\r\n",
        "      if each_word not in stop_words:\r\n",
        "          if each_word in tf_score:\r\n",
        "              tf_score[each_word] += 1\r\n",
        "          else:\r\n",
        "              tf_score[each_word] = 1\r\n",
        "\r\n",
        "  # Dividing by total_word_length for each dictionary element\r\n",
        "  tf_score.update((x, y/int(total_word_length)) for x, y in tf_score.items())\r\n",
        "  idf_score = {}\r\n",
        "  for each_word in total_words:\r\n",
        "      each_word = each_word.replace('.','')\r\n",
        "      if each_word not in stop_words:\r\n",
        "          if each_word in idf_score:\r\n",
        "              idf_score[each_word] = check_sent(each_word, total_sentences)\r\n",
        "          else:\r\n",
        "              idf_score[each_word] = 1\r\n",
        "\r\n",
        "  # Performing a log and divide\r\n",
        "  idf_score.update((x, math.log(int(total_sent_len)/y)) for x, y in idf_score.items())\r\n",
        "  tf_idf_score = {key: tf_score[key] * idf_score.get(key, 0) for key in tf_score.keys()}\r\n",
        "\r\n",
        "  return get_top_n(tf_idf_score,n)\r\n",
        "\r\n",
        "  \r\n",
        "def check_sent(word, sentences): \r\n",
        "  final = [all([w in x for w in word]) for x in sentences] \r\n",
        "  sent_len = [sentences[i] for i in range(0, len(final)) if final[i]]\r\n",
        "  return int(len(sent_len))\r\n",
        "\r\n",
        "def get_top_n(dict_elem, n):\r\n",
        "    result = sorted(dict_elem.items(), key = itemgetter(1), reverse = True)\r\n",
        "    return_dict = {}\r\n",
        "    for x,y in result:\r\n",
        "      if len(return_dict) >=n:\r\n",
        "        return return_dict\r\n",
        "      if len(x) >3:\r\n",
        "        return_dict[x] = y\r\n",
        "      \r\n",
        "    return return_dict"
      ],
      "execution_count": 141,
      "outputs": []
    },
    {
      "cell_type": "code",
      "metadata": {
        "id": "wymz3QzECdHz"
      },
      "source": [
        "doc = \"\"\r\n",
        "for i in range(len(key_frame.tweet.iloc[2])):\r\n",
        "  doc+=key_frame.tweet.iloc[2][str(i)]['text']\r\n",
        "x = get_keywords(doc,10)"
      ],
      "execution_count": 143,
      "outputs": []
    },
    {
      "cell_type": "code",
      "metadata": {
        "colab": {
          "base_uri": "https://localhost:8080/"
        },
        "id": "i-29fPlRCfhf",
        "outputId": "f2f0a668-b9f4-4902-e85e-8cbe7d6e8fdb"
      },
      "source": [
        "x"
      ],
      "execution_count": 144,
      "outputs": [
        {
          "output_type": "execute_result",
          "data": {
            "text/plain": [
              "{'@WSJ': 0.006242346902845286,\n",
              " 'Capitol': 0.009363520354267928,\n",
              " 'Dodginghorse’s': 0.003975548648976902,\n",
              " \"Don't\": 0.0031229690910925907,\n",
              " 'From': 0.0031229690910925907,\n",
              " \"Here's\": 0.004474275719220646,\n",
              " 'Here,': 0.003975548648976902,\n",
              " 'Young': 0.004474275719220646,\n",
              " 'interview?': 0.003347226848526729,\n",
              " 'job?': 0.0031229690910925907}"
            ]
          },
          "metadata": {
            "tags": []
          },
          "execution_count": 144
        }
      ]
    },
    {
      "cell_type": "code",
      "metadata": {
        "colab": {
          "base_uri": "https://localhost:8080/"
        },
        "id": "1oPzNrkEEhhG",
        "outputId": "89a12395-3222-47ce-abaf-ad78d80fde2d"
      },
      "source": [
        ""
      ],
      "execution_count": 140,
      "outputs": [
        {
          "output_type": "execute_result",
          "data": {
            "text/plain": [
              "{'@WSJ': 0.006242346902845286,\n",
              " 'Capitol': 0.009363520354267928,\n",
              " 'Dodginghorse’s': 0.003975548648976902,\n",
              " \"Don't\": 0.0031229690910925907,\n",
              " 'From': 0.0031229690910925907,\n",
              " \"Here's\": 0.004474275719220646,\n",
              " 'Here,': 0.003975548648976902,\n",
              " 'Young': 0.004474275719220646,\n",
              " 'interview?': 0.003347226848526729,\n",
              " 'job?': 0.0031229690910925907}"
            ]
          },
          "metadata": {
            "tags": []
          },
          "execution_count": 140
        }
      ]
    },
    {
      "cell_type": "code",
      "metadata": {
        "id": "0lP09Qx_EuGh"
      },
      "source": [
        "def get_top_author_keywords(author_frame,n):\r\n",
        "  \"\"\"\r\n",
        "  authorframe: frame representing the author\r\n",
        "  n:no of keywords\r\n",
        "  takes in the author frame and returns top n keywords used by author\r\n",
        "  \"\"\"\r\n",
        "  print(\"Top {} keywords used by {} in their recent tweets\".format(n,author_frame.author_name.iloc[0]))\r\n",
        "  doc = \"\"\r\n",
        "  for i in range(len(author_frame.tweet.iloc[0])):\r\n",
        "    doc+=author_frame.tweet.iloc[0][str(i)]['text']\r\n",
        "  print(get_keywords(doc,n))\r\n",
        "  \r\n",
        "    "
      ],
      "execution_count": 156,
      "outputs": []
    },
    {
      "cell_type": "code",
      "metadata": {
        "colab": {
          "base_uri": "https://localhost:8080/"
        },
        "id": "xzhccU6NIC7J",
        "outputId": "c9a41fbf-ed5a-4ef7-bc75-eb6caf677bfc"
      },
      "source": [
        "get_top_author_keywords(key_frame.head(1),10)"
      ],
      "execution_count": 157,
      "outputs": [
        {
          "output_type": "stream",
          "text": [
            "Top 10 keywords used by Steph Aaronson in their recent tweets\n",
            "{'isn’t': 0.004571020234438617, 'Lasso': 0.004104722816762759, 'thing': 0.003862752760950671, 'mind,': 0.003862752760950671, 'store': 0.003862752760950671, 'in-and-out': 0.003862752760950671, 'fast': 0.003862752760950671, 'can\"': 0.003862752760950671, 'Shoppers': 0.003862752760950671, 'head': 0.003862752760950671}\n"
          ],
          "name": "stdout"
        }
      ]
    },
    {
      "cell_type": "code",
      "metadata": {
        "id": "uWkQb3muIK5t"
      },
      "source": [
        "\r\n"
      ],
      "execution_count": null,
      "outputs": []
    }
  ]
}